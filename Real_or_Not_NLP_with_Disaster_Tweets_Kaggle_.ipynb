{
  "nbformat": 4,
  "nbformat_minor": 0,
  "metadata": {
    "colab": {
      "name": "Real or Not? NLP with Disaster Tweets - Kaggle .ipynb",
      "provenance": [],
      "collapsed_sections": [
        "NFU9xT6kpgIf"
      ],
      "authorship_tag": "ABX9TyPvnLZcVtiFKqRPBj1l1uXt",
      "include_colab_link": true
    },
    "kernelspec": {
      "name": "python3",
      "display_name": "Python 3"
    }
  },
  "cells": [
    {
      "cell_type": "markdown",
      "metadata": {
        "id": "view-in-github",
        "colab_type": "text"
      },
      "source": [
        "<a href=\"https://colab.research.google.com/github/emmanuellaanggi/disaster_tweet_sentiment/blob/master/Real_or_Not_NLP_with_Disaster_Tweets_Kaggle_.ipynb\" target=\"_parent\"><img src=\"https://colab.research.google.com/assets/colab-badge.svg\" alt=\"Open In Colab\"/></a>"
      ]
    },
    {
      "cell_type": "markdown",
      "metadata": {
        "id": "QyIHY0DU64yn",
        "colab_type": "text"
      },
      "source": [
        "# **Sentiment Analysis Using LSTM & CNN with fastText Word-Embedding!**"
      ]
    },
    {
      "cell_type": "markdown",
      "metadata": {
        "id": "r_41kyTE7IWN",
        "colab_type": "text"
      },
      "source": [
        "My first notebook with kaggle dataset!\n",
        "\n",
        "This time i'm trying to apply the method of word-embedding that i used on one of my paper in uni: fastText. i tried it to classify this interesting dataset from kaggle. The dataset consisted of tweets and classifies whether a tweet is using a disaster words as to inform a real disaster or merely just use it metaphorically.\n",
        "\n",
        "This was tested/built with Google Colab, so it'll work fine and just the same if you try it on Colab.\n",
        "\n",
        "thank you to https://www.kaggle.com/vsmolyakov/keras-cnn-with-fasttext-embeddings!"
      ]
    },
    {
      "cell_type": "markdown",
      "metadata": {
        "id": "39QHYVX9k0uJ",
        "colab_type": "text"
      },
      "source": [
        "# **Download Data from kaggle**\n",
        "\n",
        "First, the data. first things first is installing kaggle to my environment i dont have to download the data to my drive/local. It's super efficient.\n",
        "\n",
        "To get the API, go to your kaggle profile and download the JSON file!"
      ]
    },
    {
      "cell_type": "code",
      "metadata": {
        "id": "Jn74l2OE2RLf",
        "colab_type": "code",
        "colab": {}
      },
      "source": [
        "! pip install -q kaggle\n",
        "! mkdir ~/.kaggle\n",
        "! cp kaggle.json ~/.kaggle/\n",
        "! chmod 600 ~/.kaggle/kaggle.json"
      ],
      "execution_count": 1,
      "outputs": []
    },
    {
      "cell_type": "markdown",
      "metadata": {
        "id": "tn_NXygs73AB",
        "colab_type": "text"
      },
      "source": [
        "download the dataset directly by copying the API command on the dataset page"
      ]
    },
    {
      "cell_type": "code",
      "metadata": {
        "id": "NQRHwMsD3vF-",
        "colab_type": "code",
        "colab": {
          "base_uri": "https://localhost:8080/",
          "height": 194
        },
        "outputId": "2e7d2978-d25e-4317-9d32-87cd51e4e9db"
      },
      "source": [
        "! kaggle competitions download -c nlp-getting-started"
      ],
      "execution_count": 2,
      "outputs": [
        {
          "output_type": "stream",
          "text": [
            "Warning: Looks like you're using an outdated API Version, please consider updating (server 1.5.6 / client 1.5.4)\n",
            "Downloading test.csv to /content\n",
            "  0% 0.00/411k [00:00<?, ?B/s]\n",
            "100% 411k/411k [00:00<00:00, 62.5MB/s]\n",
            "Downloading train.csv to /content\n",
            "  0% 0.00/965k [00:00<?, ?B/s]\n",
            "100% 965k/965k [00:00<00:00, 63.2MB/s]\n",
            "Downloading sample_submission.csv to /content\n",
            "  0% 0.00/22.2k [00:00<?, ?B/s]\n",
            "100% 22.2k/22.2k [00:00<00:00, 22.7MB/s]\n"
          ],
          "name": "stdout"
        }
      ]
    },
    {
      "cell_type": "markdown",
      "metadata": {
        "id": "2H7Ynha2lHj7",
        "colab_type": "text"
      },
      "source": [
        "#**Downloading pre-trained fastText, preparing datasets, and pre-processing**\n",
        "\n",
        "as i’ve mentioned, i am using fastText and i’m going to download the pre-trained model that fastText offered, directly to my session, and then unzip it to use."
      ]
    },
    {
      "cell_type": "code",
      "metadata": {
        "id": "DlC4m7alB44c",
        "colab_type": "code",
        "colab": {}
      },
      "source": [
        "import requests, zipfile, io\n",
        "zip_file_url = \"https://dl.fbaipublicfiles.com/fasttext/vectors-english/wiki-news-300d-1M.vec.zip\"\n",
        "r = requests.get(zip_file_url)\n",
        "z = zipfile.ZipFile(io.BytesIO(r.content))\n",
        "z.extractall()"
      ],
      "execution_count": 3,
      "outputs": []
    },
    {
      "cell_type": "code",
      "metadata": {
        "id": "JEh0D8DSH1L4",
        "colab_type": "code",
        "colab": {
          "base_uri": "https://localhost:8080/",
          "height": 143
        },
        "outputId": "2fa2e332-e171-4938-d567-50e53b0f6468"
      },
      "source": [
        "#For Pre-Processing\n",
        "from tqdm import tqdm\n",
        "import nltk\n",
        "from nltk.corpus import stopwords\n",
        "nltk.download('stopwords')\n",
        "nltk.download('punkt')\n",
        "from nltk.tokenize import RegexpTokenizer \n",
        "from nltk.tokenize import word_tokenize\n",
        "import os, re, csv, math, codecs\n",
        "\n",
        "\n",
        "# For Training\n",
        "import keras\n",
        "from keras import optimizers\n",
        "from keras import backend as K\n",
        "from keras import regularizers\n",
        "from keras.models import Sequential\n",
        "from keras.layers import Dense, Activation, Dropout, Flatten\n",
        "from keras.layers import Embedding, Conv1D, MaxPooling1D, GlobalMaxPooling1D\n",
        "from tensorflow.keras.layers import Embedding, LSTM, Dense, Dropout, Bidirectional\n",
        "from keras.utils import plot_model\n",
        "from keras.preprocessing import sequence\n",
        "from keras.preprocessing.text import Tokenizer\n",
        "from keras.callbacks import EarlyStopping\n",
        "\n",
        "# For array, dataset, and visualizing\n",
        "import numpy as np\n",
        "import pandas as pd\n",
        "import seaborn as sns\n",
        "import matplotlib.pyplot as plt\n",
        "\n",
        "sns.set_style(\"whitegrid\")\n",
        "np.random.seed(0)\n",
        "\n",
        "MAX_NB_WORDS = 100000\n",
        "tokenizer = RegexpTokenizer(r'\\w+')\n",
        "stop_words = set(stopwords.words('english'))\n",
        "stop_words.update(['.', ',', '\"', \"'\", ':', ';', '(', ')', '[', ']', '{', '}'])"
      ],
      "execution_count": 4,
      "outputs": [
        {
          "output_type": "stream",
          "text": [
            "[nltk_data] Downloading package stopwords to /root/nltk_data...\n",
            "[nltk_data]   Unzipping corpora/stopwords.zip.\n",
            "[nltk_data] Downloading package punkt to /root/nltk_data...\n",
            "[nltk_data]   Unzipping tokenizers/punkt.zip.\n"
          ],
          "name": "stdout"
        },
        {
          "output_type": "stream",
          "text": [
            "/usr/local/lib/python3.6/dist-packages/statsmodels/tools/_testing.py:19: FutureWarning: pandas.util.testing is deprecated. Use the functions in the public API at pandas.testing instead.\n",
            "  import pandas.util.testing as tm\n"
          ],
          "name": "stderr"
        }
      ]
    },
    {
      "cell_type": "markdown",
      "metadata": {
        "id": "OryI3DKE8tr8",
        "colab_type": "text"
      },
      "source": [
        "\n",
        "Converting all the words to index in number, to the embedding index in pre-trained model and converted all the missing words to 0,"
      ]
    },
    {
      "cell_type": "code",
      "metadata": {
        "id": "IPqS-8FcEN95",
        "colab_type": "code",
        "colab": {
          "base_uri": "https://localhost:8080/",
          "height": 70
        },
        "outputId": "2041b567-ab48-4a44-e3ce-e085272010d8"
      },
      "source": [
        "print('loading word embeddings...')\n",
        "\n",
        "embeddings_index = {}\n",
        "f = codecs.open('wiki-news-300d-1M.vec', encoding='utf-8')\n",
        "\n",
        "for line in tqdm(f):\n",
        "    values = line.rstrip().rsplit(' ')\n",
        "    word = values[0]\n",
        "    coefs = np.asarray(values[1:], dtype='float32')\n",
        "    embeddings_index[word] = coefs\n",
        "f.close()\n",
        "\n",
        "print('found %s word vectors' % len(embeddings_index))"
      ],
      "execution_count": 5,
      "outputs": [
        {
          "output_type": "stream",
          "text": [
            "2115it [00:00, 10869.75it/s]"
          ],
          "name": "stderr"
        },
        {
          "output_type": "stream",
          "text": [
            "loading word embeddings...\n"
          ],
          "name": "stdout"
        },
        {
          "output_type": "stream",
          "text": [
            "999995it [01:44, 9538.13it/s]"
          ],
          "name": "stderr"
        },
        {
          "output_type": "stream",
          "text": [
            "found 999995 word vectors\n"
          ],
          "name": "stdout"
        },
        {
          "output_type": "stream",
          "text": [
            "\n"
          ],
          "name": "stderr"
        }
      ]
    },
    {
      "cell_type": "markdown",
      "metadata": {
        "id": "0f453DpY80zi",
        "colab_type": "text"
      },
      "source": [
        "Read both the train data and test data"
      ]
    },
    {
      "cell_type": "code",
      "metadata": {
        "id": "gXof0wFo6Q8a",
        "colab_type": "code",
        "colab": {
          "base_uri": "https://localhost:8080/",
          "height": 52
        },
        "outputId": "d089cc36-71d5-4bf0-bfb5-45f0e88cf2b2"
      },
      "source": [
        "#load data\n",
        "train_df = pd.read_csv('train.csv', sep=',', header=0)\n",
        "test_df = pd.read_csv('test.csv', sep=',', header=0)\n",
        "test_df = test_df.fillna('_NA_')\n",
        "\n",
        "print(\"Number of training data \", train_df.shape[0])\n",
        "print(\"Number of testing data: \", test_df.shape[0])"
      ],
      "execution_count": 6,
      "outputs": [
        {
          "output_type": "stream",
          "text": [
            "Number of training data  7613\n",
            "Number of testing data:  3263\n"
          ],
          "name": "stdout"
        }
      ]
    },
    {
      "cell_type": "code",
      "metadata": {
        "id": "QQARD6HcIGYs",
        "colab_type": "code",
        "colab": {
          "base_uri": "https://localhost:8080/",
          "height": 296
        },
        "outputId": "4410e36d-48ad-4285-9167-3cd0bfa15109"
      },
      "source": [
        "label_names = [\"target\"]\n",
        "y_train = train_df[label_names].values\n",
        "train_df['doc_len'] = train_df['text'].apply(lambda words: len(words.split(\" \")))\n",
        "max_seq_len = np.round(train_df['doc_len'].mean() + train_df['doc_len'].std()).astype(int)\n",
        "\n",
        "sns.distplot(train_df['doc_len'], hist=True, kde=True, color='b', label='doc len')\n",
        "plt.axvline(x=max_seq_len, color='k', linestyle='--', label='max len')\n",
        "plt.title('comment length'); plt.legend()\n",
        "plt.show()"
      ],
      "execution_count": 7,
      "outputs": [
        {
          "output_type": "display_data",
          "data": {
            "image/png": "[encoded data removed]",
            "text/plain": [
              "<Figure size 432x288 with 1 Axes>"
            ]
          },
          "metadata": {
            "tags": []
          }
        }
      ]
    },
    {
      "cell_type": "markdown",
      "metadata": {
        "id": "a_AOE1b5elSz",
        "colab_type": "text"
      },
      "source": [
        "tokenizing the data with tokenizer from tensorflow"
      ]
    },
    {
      "cell_type": "code",
      "metadata": {
        "id": "Cc_9P1cEGg5J",
        "colab_type": "code",
        "colab": {
          "base_uri": "https://localhost:8080/",
          "height": 105
        },
        "outputId": "052e644a-9ce6-4cfe-98f3-74d81ca57b87"
      },
      "source": [
        "from sklearn.utils import shuffle \n",
        "\n",
        "raw_docs_train = train_df['text'].tolist()\n",
        "raw_docs_test = test_df['text'].tolist() \n",
        "num_classes = len(label_names)\n",
        "\n",
        "print(\"pre-processing train data...\")\n",
        "\n",
        "processed_docs_train = []\n",
        "for doc in tqdm(raw_docs_train):\n",
        "    tokens = word_tokenize(doc)\n",
        "    filtered = [word for word in tokens if word not in stop_words]\n",
        "    processed_docs_train.append(\" \".join(filtered))\n",
        "#end for\n",
        "\n",
        "processed_docs_test = []\n",
        "for doc in tqdm(raw_docs_test):\n",
        "    tokens = word_tokenize(doc)\n",
        "    filtered = [word for word in tokens if word not in stop_words]\n",
        "    processed_docs_test.append(\" \".join(filtered))\n",
        "#end for\n",
        "\n",
        "print(\"tokenizing input data...\")\n",
        "tokenizer = Tokenizer(num_words=MAX_NB_WORDS, lower=True, char_level=False)\n",
        "tokenizer.fit_on_texts(processed_docs_train + processed_docs_test)  #leaky\n",
        "word_seq_train = tokenizer.texts_to_sequences(processed_docs_train)\n",
        "word_seq_test = tokenizer.texts_to_sequences(processed_docs_test)\n",
        "word_index = tokenizer.word_index\n",
        "print(\"dictionary size: \", len(word_index))\n",
        "\n",
        "#pad sequences\n",
        "word_seq_train = sequence.pad_sequences(word_seq_train, maxlen=max_seq_len)\n",
        "word_seq_test = sequence.pad_sequences(word_seq_test, maxlen=max_seq_len)"
      ],
      "execution_count": 8,
      "outputs": [
        {
          "output_type": "stream",
          "text": [
            " 13%|█▎        | 959/7613 [00:00<00:01, 4607.87it/s]"
          ],
          "name": "stderr"
        },
        {
          "output_type": "stream",
          "text": [
            "pre-processing train data...\n"
          ],
          "name": "stdout"
        },
        {
          "output_type": "stream",
          "text": [
            "100%|██████████| 7613/7613 [00:01<00:00, 4861.25it/s]\n",
            "100%|██████████| 3263/3263 [00:00<00:00, 4971.25it/s]\n"
          ],
          "name": "stderr"
        },
        {
          "output_type": "stream",
          "text": [
            "tokenizing input data...\n",
            "dictionary size:  28717\n"
          ],
          "name": "stdout"
        }
      ]
    },
    {
      "cell_type": "markdown",
      "metadata": {
        "id": "IpGENGlOtQs1",
        "colab_type": "text"
      },
      "source": [
        "#**Shape and Train with LSTM**"
      ]
    },
    {
      "cell_type": "markdown",
      "metadata": {
        "id": "Nyj7gwQKexxy",
        "colab_type": "text"
      },
      "source": [
        "defining variables that used on training"
      ]
    },
    {
      "cell_type": "code",
      "metadata": {
        "id": "PSZ3krGMG303",
        "colab_type": "code",
        "colab": {}
      },
      "source": [
        "#training params\n",
        "batch_size = 256 \n",
        "num_epochs = 40\n",
        "\n",
        "#model parameters\n",
        "num_filters = 64 \n",
        "embed_dim = 300 \n",
        "weight_decay = 1e-4"
      ],
      "execution_count": 9,
      "outputs": []
    },
    {
      "cell_type": "markdown",
      "metadata": {
        "id": "fZ6AlbhZe4Ky",
        "colab_type": "text"
      },
      "source": [
        "building the embedding matrix for the weights in Embedding Layer on training. more about embedding matrix: https://machinelearningmastery.com/use-word-embedding-layers-deep-learning-keras/\n",
        "\n",
        "all words that aren't in the pre-trained model from fasttext would be changed to 0. the words are basically the ones with typos or names, the words mostly dont matter so much to the pattern. so it's nicer to just weights it 0."
      ]
    },
    {
      "cell_type": "code",
      "metadata": {
        "id": "8SJbfuJPJEDC",
        "colab_type": "code",
        "colab": {
          "base_uri": "https://localhost:8080/",
          "height": 52
        },
        "outputId": "372366a2-bfde-4f06-b30c-ff681c1ab76e"
      },
      "source": [
        "#embedding matrix\n",
        "\n",
        "print('preparing embedding matrix...')\n",
        "\n",
        "words_not_found = []\n",
        "nb_words = min(MAX_NB_WORDS, len(word_index)+1)\n",
        "embedding_matrix = np.zeros((nb_words, embed_dim))\n",
        "\n",
        "for word, i in word_index.items():\n",
        "    if i >= nb_words:\n",
        "        continue\n",
        "    embedding_vector = embeddings_index.get(word)\n",
        "    if (embedding_vector is not None) and len(embedding_vector) > 0:\n",
        "        # words not found in embedding index will be all-zeros.\n",
        "        embedding_matrix[i] = embedding_vector\n",
        "    else:\n",
        "        words_not_found.append(word)\n",
        "print('number of null word embeddings: %d' % np.sum(np.sum(embedding_matrix, axis=1) == 0))"
      ],
      "execution_count": 13,
      "outputs": [
        {
          "output_type": "stream",
          "text": [
            "preparing embedding matrix...\n",
            "number of null word embeddings: 14247\n"
          ],
          "name": "stdout"
        }
      ]
    },
    {
      "cell_type": "code",
      "metadata": {
        "id": "S_pjm-7BJGuP",
        "colab_type": "code",
        "colab": {
          "base_uri": "https://localhost:8080/",
          "height": 52
        },
        "outputId": "0a30624f-5503-40db-8719-deabdc82177c"
      },
      "source": [
        "print(\"sample words not found: \", np.random.choice(words_not_found, 10))"
      ],
      "execution_count": 14,
      "outputs": [
        {
          "output_type": "stream",
          "text": [
            "sample words not found:  ['bftiapf35f' '2qjl5mfkzv' 'foragesecret' 'fl8gci84aj' 'boua80z5wf'\n",
            " 'werk9qibvv' 'tpoptwmwfr' 'izjk6kpwiz' 'rpbxdfnx5k' 'cubdnsnuvt']\n"
          ],
          "name": "stdout"
        }
      ]
    },
    {
      "cell_type": "markdown",
      "metadata": {
        "id": "SUBAkn22ga48",
        "colab_type": "text"
      },
      "source": [
        "let's start training! here are the layers. i have been doing some test and modification on using the layer, unit cells, etc. and so far it works the best for me. tell me i"
      ]
    },
    {
      "cell_type": "code",
      "metadata": {
        "id": "xpX2AFhKJJsh",
        "colab_type": "code",
        "colab": {
          "base_uri": "https://localhost:8080/",
          "height": 547
        },
        "outputId": "0919ecd8-6a35-421c-e63a-a2eb179db9d2"
      },
      "source": [
        "from keras.layers import BatchNormalization\n",
        "import tensorflow as tf\n",
        "\n",
        "model = tf.keras.Sequential()\n",
        "\n",
        "model.add(Embedding(nb_words,embed_dim,input_length=max_seq_len, weights=[embedding_matrix],trainable=False))\n",
        "\n",
        "model.add(Dropout(0.3))\n",
        "model.add(Dense(32,activation='relu'))\n",
        "model.add(Bidirectional(LSTM(64,return_sequences= True)))\n",
        "model.add(Bidirectional(LSTM(64,return_sequences= True)))\n",
        "model.add(Bidirectional(LSTM(64,return_sequences= True)))\n",
        "model.add(Bidirectional(LSTM(64,return_sequences= True)))\n",
        "model.add(Bidirectional(LSTM(32)))\n",
        "model.add(Dense(32,activation='relu'))\n",
        "model.add(Dropout(0.3))\n",
        "\n",
        "model.add(Dense(1,activation='sigmoid'))\n",
        "model.summary()"
      ],
      "execution_count": 15,
      "outputs": [
        {
          "output_type": "stream",
          "text": [
            "Model: \"sequential\"\n",
            "_________________________________________________________________\n",
            "Layer (type)                 Output Shape              Param #   \n",
            "=================================================================\n",
            "embedding (Embedding)        (None, 21, 300)           8615400   \n",
            "_________________________________________________________________\n",
            "dropout (Dropout)            (None, 21, 300)           0         \n",
            "_________________________________________________________________\n",
            "dense (Dense)                (None, 21, 32)            9632      \n",
            "_________________________________________________________________\n",
            "bidirectional (Bidirectional (None, 21, 128)           49664     \n",
            "_________________________________________________________________\n",
            "bidirectional_1 (Bidirection (None, 21, 128)           98816     \n",
            "_________________________________________________________________\n",
            "bidirectional_2 (Bidirection (None, 21, 128)           98816     \n",
            "_________________________________________________________________\n",
            "bidirectional_3 (Bidirection (None, 21, 128)           98816     \n",
            "_________________________________________________________________\n",
            "bidirectional_4 (Bidirection (None, 64)                41216     \n",
            "_________________________________________________________________\n",
            "dense_1 (Dense)              (None, 32)                2080      \n",
            "_________________________________________________________________\n",
            "dropout_1 (Dropout)          (None, 32)                0         \n",
            "_________________________________________________________________\n",
            "dense_2 (Dense)              (None, 1)                 33        \n",
            "=================================================================\n",
            "Total params: 9,014,473\n",
            "Trainable params: 399,073\n",
            "Non-trainable params: 8,615,400\n",
            "_________________________________________________________________\n"
          ],
          "name": "stdout"
        }
      ]
    },
    {
      "cell_type": "code",
      "metadata": {
        "id": "tCpYrqbaJUb2",
        "colab_type": "code",
        "colab": {}
      },
      "source": [
        "from keras.optimizers import RMSprop\n",
        "from keras.callbacks import ModelCheckpoint\n",
        "from tensorflow.keras.callbacks import EarlyStopping\n",
        "\n",
        "model.compile(loss='binary_crossentropy', optimizer='adam', metrics=['accuracy'])"
      ],
      "execution_count": 16,
      "outputs": []
    },
    {
      "cell_type": "code",
      "metadata": {
        "id": "o9tkbuRaJZ3d",
        "colab_type": "code",
        "colab": {
          "base_uri": "https://localhost:8080/",
          "height": 617
        },
        "outputId": "cb2f71b7-4aa1-435c-c80e-452e9d852252"
      },
      "source": [
        "es_callback = EarlyStopping(monitor='val_loss', patience=3)\n",
        "\n",
        "history = model.fit(word_seq_train, y_train, batch_size=256,\n",
        "          epochs=num_epochs, validation_split=0.3, callbacks=[es_callback], shuffle=False)"
      ],
      "execution_count": 17,
      "outputs": [
        {
          "output_type": "stream",
          "text": [
            "Epoch 1/40\n",
            "21/21 [==============================] - 15s 723ms/step - loss: 0.6887 - accuracy: 0.5778 - val_loss: 0.6820 - val_accuracy: 0.5679\n",
            "Epoch 2/40\n",
            "21/21 [==============================] - 12s 553ms/step - loss: 0.6437 - accuracy: 0.6418 - val_loss: 0.5292 - val_accuracy: 0.7627\n",
            "Epoch 3/40\n",
            "21/21 [==============================] - 12s 563ms/step - loss: 0.5559 - accuracy: 0.7365 - val_loss: 0.4966 - val_accuracy: 0.7785\n",
            "Epoch 4/40\n",
            "21/21 [==============================] - 12s 561ms/step - loss: 0.4918 - accuracy: 0.7814 - val_loss: 0.4393 - val_accuracy: 0.8122\n",
            "Epoch 5/40\n",
            "21/21 [==============================] - 12s 557ms/step - loss: 0.4695 - accuracy: 0.7951 - val_loss: 0.4301 - val_accuracy: 0.8104\n",
            "Epoch 6/40\n",
            "21/21 [==============================] - 12s 557ms/step - loss: 0.4583 - accuracy: 0.8032 - val_loss: 0.4271 - val_accuracy: 0.8192\n",
            "Epoch 7/40\n",
            "21/21 [==============================] - 12s 558ms/step - loss: 0.4444 - accuracy: 0.8101 - val_loss: 0.4239 - val_accuracy: 0.8117\n",
            "Epoch 8/40\n",
            "21/21 [==============================] - 12s 557ms/step - loss: 0.4429 - accuracy: 0.8123 - val_loss: 0.4328 - val_accuracy: 0.8039\n",
            "Epoch 9/40\n",
            "21/21 [==============================] - 12s 554ms/step - loss: 0.4371 - accuracy: 0.8178 - val_loss: 0.4343 - val_accuracy: 0.8021\n",
            "Epoch 10/40\n",
            "21/21 [==============================] - 12s 559ms/step - loss: 0.4318 - accuracy: 0.8202 - val_loss: 0.4157 - val_accuracy: 0.8214\n",
            "Epoch 11/40\n",
            "21/21 [==============================] - 12s 552ms/step - loss: 0.4170 - accuracy: 0.8214 - val_loss: 0.4070 - val_accuracy: 0.8205\n",
            "Epoch 12/40\n",
            "21/21 [==============================] - 12s 554ms/step - loss: 0.4165 - accuracy: 0.8249 - val_loss: 0.4045 - val_accuracy: 0.8196\n",
            "Epoch 13/40\n",
            "21/21 [==============================] - 12s 555ms/step - loss: 0.4103 - accuracy: 0.8305 - val_loss: 0.4054 - val_accuracy: 0.8196\n",
            "Epoch 14/40\n",
            "21/21 [==============================] - 12s 556ms/step - loss: 0.3989 - accuracy: 0.8366 - val_loss: 0.4016 - val_accuracy: 0.8227\n",
            "Epoch 15/40\n",
            "21/21 [==============================] - 13s 615ms/step - loss: 0.4004 - accuracy: 0.8285 - val_loss: 0.4140 - val_accuracy: 0.8117\n",
            "Epoch 16/40\n",
            "21/21 [==============================] - 12s 566ms/step - loss: 0.3983 - accuracy: 0.8309 - val_loss: 0.4118 - val_accuracy: 0.8117\n",
            "Epoch 17/40\n",
            "21/21 [==============================] - 12s 561ms/step - loss: 0.3883 - accuracy: 0.8401 - val_loss: 0.4487 - val_accuracy: 0.7912\n"
          ],
          "name": "stdout"
        }
      ]
    },
    {
      "cell_type": "markdown",
      "metadata": {
        "id": "aKSG_B_KtWZ-",
        "colab_type": "text"
      },
      "source": [
        "#**Evaluation**"
      ]
    },
    {
      "cell_type": "markdown",
      "metadata": {
        "id": "kF_jtJSghCUl",
        "colab_type": "text"
      },
      "source": [
        "evaluation on the training for each epoch"
      ]
    },
    {
      "cell_type": "code",
      "metadata": {
        "id": "mX6utTzSN2pB",
        "colab_type": "code",
        "colab": {
          "base_uri": "https://localhost:8080/",
          "height": 295
        },
        "outputId": "41e925c3-dd23-453e-d6b1-096d031577ea"
      },
      "source": [
        "#generate plots\n",
        "plt.figure()\n",
        "plt.plot(history.history['loss'], lw=2.0, color='b', label='train')\n",
        "plt.plot(history.history['val_loss'], lw=2.0, color='r', label='val')\n",
        "plt.title('LSTM sentiment')\n",
        "plt.xlabel('Epochs')\n",
        "plt.ylabel('Cross-Entropy Loss')\n",
        "plt.legend(loc='upper right')\n",
        "plt.show()"
      ],
      "execution_count": 18,
      "outputs": [
        {
          "output_type": "display_data",
          "data": {
            "image/png": "[encoded data removed]",
            "text/plain": [
              "<Figure size 432x288 with 1 Axes>"
            ]
          },
          "metadata": {
            "tags": []
          }
        }
      ]
    },
    {
      "cell_type": "code",
      "metadata": {
        "id": "PM12-5wFN7tw",
        "colab_type": "code",
        "colab": {
          "base_uri": "https://localhost:8080/",
          "height": 295
        },
        "outputId": "da2f9e44-78bb-4fc0-c129-1091c145730b"
      },
      "source": [
        "plt.figure()\n",
        "plt.plot(history.history['accuracy'], lw=2.0, color='b', label='train')\n",
        "plt.plot(history.history['val_accuracy'], lw=2.0, color='r', label='val')\n",
        "plt.title('LSTM sentiment')\n",
        "plt.xlabel('Epochs')\n",
        "plt.ylabel('Accuracy')\n",
        "plt.legend(loc='upper left')\n",
        "plt.show()"
      ],
      "execution_count": 19,
      "outputs": [
        {
          "output_type": "display_data",
          "data": {
            "image/png": "[encoded data removed]",
            "text/plain": [
              "<Figure size 432x288 with 1 Axes>"
            ]
          },
          "metadata": {
            "tags": []
          }
        }
      ]
    },
    {
      "cell_type": "code",
      "metadata": {
        "id": "H3yP7nBBN-mn",
        "colab_type": "code",
        "colab": {}
      },
      "source": [
        "predictions = model.predict_classes(word_seq_test)"
      ],
      "execution_count": null,
      "outputs": []
    },
    {
      "cell_type": "code",
      "metadata": {
        "id": "zHYhQCI-OKRc",
        "colab_type": "code",
        "colab": {}
      },
      "source": [
        "sample=pd.read_csv('sample_submission.csv')\n",
        "sample['target']= (predictions>0.5).astype(int)\n",
        "sample.to_csv(\"submission.csv\",index=False, header=True)"
      ],
      "execution_count": 21,
      "outputs": []
    },
    {
      "cell_type": "code",
      "metadata": {
        "id": "JdPU8x1odx5u",
        "colab_type": "code",
        "colab": {}
      },
      "source": [
        "sample.head(20)"
      ],
      "execution_count": null,
      "outputs": []
    },
    {
      "cell_type": "code",
      "metadata": {
        "id": "a8BPZ15_eLT-",
        "colab_type": "code",
        "colab": {}
      },
      "source": [
        "# i'll try to submit this and know the accuracy if applied to real test\n",
        "!kaggle competitions submit -c nlp-getting-started -f submission.csv -m \"Using LSTM with fastText Word-Embedding\""
      ],
      "execution_count": null,
      "outputs": []
    },
    {
      "cell_type": "markdown",
      "metadata": {
        "id": "dmRux7Hjipr4",
        "colab_type": "text"
      },
      "source": [
        "it's **80%**! not so good but also not that bad, huh?"
      ]
    },
    {
      "cell_type": "markdown",
      "metadata": {
        "id": "MOz59iBtVopX",
        "colab_type": "text"
      },
      "source": [
        "# **LET'S COMPARE!**"
      ]
    },
    {
      "cell_type": "markdown",
      "metadata": {
        "id": "jwtHZxlVhXRA",
        "colab_type": "text"
      },
      "source": [
        "which one is more interesting to compare first? the using of lstm vs cnn? or the fasttext vs glove? let's try to compare the easiest one--for me at least dont judge me!--the model.\n",
        "\n",
        "next up i'll show the comparation of fasttext and glove using the model that works better."
      ]
    },
    {
      "cell_type": "code",
      "metadata": {
        "id": "u9RfWN0ggR7l",
        "colab_type": "code",
        "colab": {}
      },
      "source": [
        "# we don't want the model to overwrite, dont we?\n",
        "keras.backend.clear_session()"
      ],
      "execution_count": 24,
      "outputs": []
    },
    {
      "cell_type": "code",
      "metadata": {
        "id": "KOJvL8DDQBPU",
        "colab_type": "code",
        "colab": {
          "base_uri": "https://localhost:8080/",
          "height": 458
        },
        "outputId": "950c5b4d-0d83-4013-a2fa-d582ca056716"
      },
      "source": [
        "#CNN architecture\n",
        "print(\"training CNN ...\")\n",
        "model = Sequential()\n",
        "model.add(Embedding(nb_words, embed_dim,\n",
        "          weights=[embedding_matrix], input_length=max_seq_len, trainable=False))\n",
        "model.add(Conv1D(num_filters, 7, activation='relu', padding='same'))\n",
        "model.add(MaxPooling1D(2))\n",
        "model.add(Conv1D(num_filters, 7, activation='relu', padding='same'))\n",
        "model.add(GlobalMaxPooling1D())\n",
        "model.add(Dropout(0.5))\n",
        "model.add(Dense(32, activation='relu', kernel_regularizer=regularizers.l2(weight_decay)))\n",
        "model.add(Dense(num_classes, activation='sigmoid'))  #multi-label (k-hot encoding)\n",
        "\n",
        "adam = optimizers.Adam(lr=0.001, beta_1=0.9, beta_2=0.999, epsilon=1e-08, decay=0.0)\n",
        "model.compile(loss='binary_crossentropy', optimizer=adam, metrics=['accuracy'])\n",
        "model.summary()"
      ],
      "execution_count": 25,
      "outputs": [
        {
          "output_type": "stream",
          "text": [
            "training CNN ...\n",
            "Model: \"sequential\"\n",
            "_________________________________________________________________\n",
            "Layer (type)                 Output Shape              Param #   \n",
            "=================================================================\n",
            "embedding (Embedding)        (None, 21, 300)           8615400   \n",
            "_________________________________________________________________\n",
            "conv1d (Conv1D)              (None, 21, 64)            134464    \n",
            "_________________________________________________________________\n",
            "max_pooling1d (MaxPooling1D) (None, 10, 64)            0         \n",
            "_________________________________________________________________\n",
            "conv1d_1 (Conv1D)            (None, 10, 64)            28736     \n",
            "_________________________________________________________________\n",
            "global_max_pooling1d (Global (None, 64)                0         \n",
            "_________________________________________________________________\n",
            "dropout (Dropout)            (None, 64)                0         \n",
            "_________________________________________________________________\n",
            "dense (Dense)                (None, 32)                2080      \n",
            "_________________________________________________________________\n",
            "dense_1 (Dense)              (None, 1)                 33        \n",
            "=================================================================\n",
            "Total params: 8,780,713\n",
            "Trainable params: 165,313\n",
            "Non-trainable params: 8,615,400\n",
            "_________________________________________________________________\n"
          ],
          "name": "stdout"
        }
      ]
    },
    {
      "cell_type": "code",
      "metadata": {
        "colab_type": "code",
        "id": "uC0XjvhMjCDN",
        "colab": {}
      },
      "source": [
        "from keras.optimizers import RMSprop\n",
        "from keras.callbacks import ModelCheckpoint\n",
        "from tensorflow.keras.callbacks import EarlyStopping\n",
        "\n",
        "model.compile(loss='binary_crossentropy', optimizer='adam', metrics=['accuracy'])"
      ],
      "execution_count": 26,
      "outputs": []
    },
    {
      "cell_type": "code",
      "metadata": {
        "colab_type": "code",
        "id": "kW4_cUTOjCDd",
        "colab": {
          "base_uri": "https://localhost:8080/",
          "height": 229
        },
        "outputId": "e5dbab58-d9d1-4986-867a-a745897b3af4"
      },
      "source": [
        "es_callback = EarlyStopping(monitor='val_loss', patience=3)\n",
        "\n",
        "history = model.fit(word_seq_train, y_train, batch_size=256,\n",
        "          epochs=num_epochs, validation_split=0.3, callbacks=[es_callback], shuffle=False)"
      ],
      "execution_count": 27,
      "outputs": [
        {
          "output_type": "stream",
          "text": [
            "Epoch 1/40\n",
            "21/21 [==============================] - 2s 111ms/step - loss: 0.6805 - accuracy: 0.5761 - val_loss: 0.6252 - val_accuracy: 0.7412\n",
            "Epoch 2/40\n",
            "21/21 [==============================] - 2s 103ms/step - loss: 0.5824 - accuracy: 0.7226 - val_loss: 0.4965 - val_accuracy: 0.7955\n",
            "Epoch 3/40\n",
            "21/21 [==============================] - 2s 104ms/step - loss: 0.4842 - accuracy: 0.7865 - val_loss: 0.4360 - val_accuracy: 0.8174\n",
            "Epoch 4/40\n",
            "21/21 [==============================] - 2s 103ms/step - loss: 0.4293 - accuracy: 0.8221 - val_loss: 0.4618 - val_accuracy: 0.7898\n",
            "Epoch 5/40\n",
            "21/21 [==============================] - 2s 103ms/step - loss: 0.4167 - accuracy: 0.8277 - val_loss: 0.4541 - val_accuracy: 0.7912\n",
            "Epoch 6/40\n",
            "21/21 [==============================] - 2s 103ms/step - loss: 0.3978 - accuracy: 0.8371 - val_loss: 0.4418 - val_accuracy: 0.8095\n"
          ],
          "name": "stdout"
        }
      ]
    },
    {
      "cell_type": "markdown",
      "metadata": {
        "colab_type": "text",
        "id": "KpL3HNHhjCDn"
      },
      "source": [
        "evaluation on the training for each epoch with this model"
      ]
    },
    {
      "cell_type": "code",
      "metadata": {
        "colab_type": "code",
        "id": "A394zVlKjCDp",
        "colab": {
          "base_uri": "https://localhost:8080/",
          "height": 295
        },
        "outputId": "d14490a0-3cdf-47ff-c04d-707480a982ce"
      },
      "source": [
        "#generate plots\n",
        "plt.figure()\n",
        "plt.plot(history.history['loss'], lw=2.0, color='b', label='train')\n",
        "plt.plot(history.history['val_loss'], lw=2.0, color='r', label='val')\n",
        "plt.title('CNN sentiment')\n",
        "plt.xlabel('Epochs')\n",
        "plt.ylabel('Cross-Entropy Loss')\n",
        "plt.legend(loc='upper right')\n",
        "plt.show()"
      ],
      "execution_count": 36,
      "outputs": [
        {
          "output_type": "display_data",
          "data": {
            "image/png": "[encoded data removed]",
            "text/plain": [
              "<Figure size 432x288 with 1 Axes>"
            ]
          },
          "metadata": {
            "tags": []
          }
        }
      ]
    },
    {
      "cell_type": "code",
      "metadata": {
        "colab_type": "code",
        "id": "3zh8IpX4jCDv",
        "colab": {
          "base_uri": "https://localhost:8080/",
          "height": 295
        },
        "outputId": "00dbd76f-a701-4da0-bd75-73979a9c111e"
      },
      "source": [
        "plt.figure()\n",
        "plt.plot(history.history['accuracy'], lw=2.0, color='b', label='train')\n",
        "plt.plot(history.history['val_accuracy'], lw=2.0, color='r', label='val')\n",
        "plt.title('CNN sentiment')\n",
        "plt.xlabel('Epochs')\n",
        "plt.ylabel('Accuracy')\n",
        "plt.legend(loc='upper left')\n",
        "plt.show()"
      ],
      "execution_count": 35,
      "outputs": [
        {
          "output_type": "display_data",
          "data": {
            "image/png": "[encoded data removed]",
            "text/plain": [
              "<Figure size 432x288 with 1 Axes>"
            ]
          },
          "metadata": {
            "tags": []
          }
        }
      ]
    },
    {
      "cell_type": "code",
      "metadata": {
        "colab_type": "code",
        "id": "HwnpxLgUjCD1",
        "colab": {}
      },
      "source": [
        "predictions = model.predict_classes(word_seq_test)"
      ],
      "execution_count": 30,
      "outputs": []
    },
    {
      "cell_type": "code",
      "metadata": {
        "colab_type": "code",
        "id": "vwcTkv9_jCD6",
        "colab": {}
      },
      "source": [
        "sample=pd.read_csv('sample_submission.csv')\n",
        "sample['target']= (predictions>0.5).astype(int)\n",
        "sample.to_csv(\"submission.csv\",index=False, header=True)"
      ],
      "execution_count": 31,
      "outputs": []
    },
    {
      "cell_type": "code",
      "metadata": {
        "colab_type": "code",
        "id": "wWpl2IMejCD-",
        "colab": {}
      },
      "source": [
        "sample.head(20)"
      ],
      "execution_count": null,
      "outputs": []
    },
    {
      "cell_type": "code",
      "metadata": {
        "colab_type": "code",
        "id": "QNDxF_nOjCED",
        "colab": {
          "base_uri": "https://localhost:8080/",
          "height": 70
        },
        "outputId": "763ba04e-dfdf-4131-96d7-2564eb032e65"
      },
      "source": [
        "# i'll try to submit this and know the accuracy if applied to real test\n",
        "!kaggle competitions submit -c nlp-getting-started -f submission.csv -m \"Using CNN with fastText Word-Embedding\""
      ],
      "execution_count": 34,
      "outputs": [
        {
          "output_type": "stream",
          "text": [
            "Warning: Looks like you're using an outdated API Version, please consider updating (server 1.5.6 / client 1.5.4)\n",
            "100% 22.2k/22.2k [00:02<00:00, 11.3kB/s]\n",
            "Successfully submitted to Real or Not? NLP with Disaster Tweets"
          ],
          "name": "stdout"
        }
      ]
    },
    {
      "cell_type": "markdown",
      "metadata": {
        "id": "dCUdxujRjj9F",
        "colab_type": "text"
      },
      "source": [
        "it's **79.4%**! but this one was using less epoch. what do you think?"
      ]
    },
    {
      "cell_type": "markdown",
      "metadata": {
        "id": "KWByO6lQjxHu",
        "colab_type": "text"
      },
      "source": [
        "###### **next up is using glove! im excited! with what i promised, i'll use the better performance. with the time and result, i'll just use cnn again!**"
      ]
    },
    {
      "cell_type": "code",
      "metadata": {
        "colab_type": "code",
        "id": "b6A9w95FkhOk",
        "colab": {}
      },
      "source": [
        "import requests, zipfile, io\n",
        "zip_file_url = \"http://nlp.stanford.edu/data/glove.6B.zip\"\n",
        "r = requests.get(zip_file_url)\n",
        "z = zipfile.ZipFile(io.BytesIO(r.content))\n",
        "z.extractall()"
      ],
      "execution_count": 37,
      "outputs": []
    },
    {
      "cell_type": "markdown",
      "metadata": {
        "colab_type": "text",
        "id": "4g57WxYskhO8"
      },
      "source": [
        "\n",
        "Converting all the words to index in number, to the embedding index in pre-trained model and converted all the missing words to 0,"
      ]
    },
    {
      "cell_type": "code",
      "metadata": {
        "colab_type": "code",
        "id": "kRijAxEHkhO9",
        "colab": {
          "base_uri": "https://localhost:8080/",
          "height": 70
        },
        "outputId": "313dac54-324c-4dbc-ed66-b66b6ef9b6b0"
      },
      "source": [
        "print('loading word embeddings...')\n",
        "\n",
        "embeddings_index = {}\n",
        "f = codecs.open('glove.6B.300d.txt', encoding='utf-8')\n",
        "\n",
        "for line in tqdm(f):\n",
        "    values = line.rstrip().rsplit(' ')\n",
        "    word = values[0]\n",
        "    coefs = np.asarray(values[1:], dtype='float32')\n",
        "    embeddings_index[word] = coefs\n",
        "f.close()\n",
        "\n",
        "print('found %s word vectors' % len(embeddings_index))"
      ],
      "execution_count": 38,
      "outputs": [
        {
          "output_type": "stream",
          "text": [
            "1866it [00:00, 9553.06it/s]"
          ],
          "name": "stderr"
        },
        {
          "output_type": "stream",
          "text": [
            "loading word embeddings...\n"
          ],
          "name": "stdout"
        },
        {
          "output_type": "stream",
          "text": [
            "400000it [00:47, 8486.36it/s]"
          ],
          "name": "stderr"
        },
        {
          "output_type": "stream",
          "text": [
            "found 400000 word vectors\n"
          ],
          "name": "stdout"
        },
        {
          "output_type": "stream",
          "text": [
            "\n"
          ],
          "name": "stderr"
        }
      ]
    },
    {
      "cell_type": "markdown",
      "metadata": {
        "colab_type": "text",
        "id": "BuYgR5SrkhPR"
      },
      "source": [
        "tokenizing the data with tokenizer from tensorflow"
      ]
    },
    {
      "cell_type": "code",
      "metadata": {
        "colab_type": "code",
        "id": "s4iYtJ-akhPR",
        "colab": {
          "base_uri": "https://localhost:8080/",
          "height": 105
        },
        "outputId": "388b60c0-ce0c-4bac-f4bc-9b6bbc5868e0"
      },
      "source": [
        "from sklearn.utils import shuffle \n",
        "\n",
        "raw_docs_train = train_df['text'].tolist()\n",
        "raw_docs_test = test_df['text'].tolist() \n",
        "num_classes = len(label_names)\n",
        "\n",
        "print(\"pre-processing train data...\")\n",
        "\n",
        "processed_docs_train = []\n",
        "for doc in tqdm(raw_docs_train):\n",
        "    tokens = word_tokenize(doc)\n",
        "    filtered = [word for word in tokens if word not in stop_words]\n",
        "    processed_docs_train.append(\" \".join(filtered))\n",
        "#end for\n",
        "\n",
        "processed_docs_test = []\n",
        "for doc in tqdm(raw_docs_test):\n",
        "    tokens = word_tokenize(doc)\n",
        "    filtered = [word for word in tokens if word not in stop_words]\n",
        "    processed_docs_test.append(\" \".join(filtered))\n",
        "#end for\n",
        "\n",
        "print(\"tokenizing input data...\")\n",
        "tokenizer = Tokenizer(num_words=MAX_NB_WORDS, lower=True, char_level=False)\n",
        "tokenizer.fit_on_texts(processed_docs_train + processed_docs_test)  #leaky\n",
        "word_seq_train = tokenizer.texts_to_sequences(processed_docs_train)\n",
        "word_seq_test = tokenizer.texts_to_sequences(processed_docs_test)\n",
        "word_index = tokenizer.word_index\n",
        "print(\"dictionary size: \", len(word_index))\n",
        "\n",
        "#pad sequences\n",
        "word_seq_train = sequence.pad_sequences(word_seq_train, maxlen=max_seq_len)\n",
        "word_seq_test = sequence.pad_sequences(word_seq_test, maxlen=max_seq_len)"
      ],
      "execution_count": 42,
      "outputs": [
        {
          "output_type": "stream",
          "text": [
            "  6%|▌         | 474/7613 [00:00<00:01, 4738.36it/s]"
          ],
          "name": "stderr"
        },
        {
          "output_type": "stream",
          "text": [
            "pre-processing train data...\n"
          ],
          "name": "stdout"
        },
        {
          "output_type": "stream",
          "text": [
            "100%|██████████| 7613/7613 [00:01<00:00, 4037.26it/s]\n",
            "100%|██████████| 3263/3263 [00:00<00:00, 3965.06it/s]\n"
          ],
          "name": "stderr"
        },
        {
          "output_type": "stream",
          "text": [
            "tokenizing input data...\n",
            "dictionary size:  28717\n"
          ],
          "name": "stdout"
        }
      ]
    },
    {
      "cell_type": "markdown",
      "metadata": {
        "colab_type": "text",
        "id": "cRLkGEa9khPY"
      },
      "source": [
        "defining variables that used on training"
      ]
    },
    {
      "cell_type": "code",
      "metadata": {
        "colab_type": "code",
        "id": "HMQrAl0vkhPY",
        "colab": {}
      },
      "source": [
        "#training params\n",
        "batch_size = 256 \n",
        "num_epochs = 40\n",
        "\n",
        "#model parameters\n",
        "num_filters = 64 \n",
        "embed_dim = 300 \n",
        "weight_decay = 1e-4"
      ],
      "execution_count": 43,
      "outputs": []
    },
    {
      "cell_type": "markdown",
      "metadata": {
        "colab_type": "text",
        "id": "Qgzbc9WgkhPb"
      },
      "source": [
        "building the embedding matrix for the weights in Embedding Layer on training. more about embedding matrix: https://machinelearningmastery.com/use-word-embedding-layers-deep-learning-keras/"
      ]
    },
    {
      "cell_type": "code",
      "metadata": {
        "colab_type": "code",
        "id": "DAWoLJkGkhPd",
        "colab": {
          "base_uri": "https://localhost:8080/",
          "height": 52
        },
        "outputId": "ae9d6c28-e5d5-45a3-c99d-181bedb5dae7"
      },
      "source": [
        "#embedding matrix\n",
        "\n",
        "print('preparing embedding matrix...')\n",
        "\n",
        "words_not_found = []\n",
        "nb_words = min(MAX_NB_WORDS, len(word_index)+1)\n",
        "embedding_matrix = np.zeros((nb_words, embed_dim))\n",
        "\n",
        "for word, i in word_index.items():\n",
        "    if i >= nb_words:\n",
        "        continue\n",
        "    embedding_vector = embeddings_index.get(word)\n",
        "    if (embedding_vector is not None) and len(embedding_vector) > 0:\n",
        "        # words not found in embedding index will be all-zeros.\n",
        "        embedding_matrix[i] = embedding_vector\n",
        "    else:\n",
        "        words_not_found.append(word)\n",
        "print('number of null word embeddings: %d' % np.sum(np.sum(embedding_matrix, axis=1) == 0))"
      ],
      "execution_count": 44,
      "outputs": [
        {
          "output_type": "stream",
          "text": [
            "preparing embedding matrix...\n",
            "number of null word embeddings: 13620\n"
          ],
          "name": "stdout"
        }
      ]
    },
    {
      "cell_type": "code",
      "metadata": {
        "id": "bX5mIZFljT2S",
        "colab_type": "code",
        "colab": {
          "base_uri": "https://localhost:8080/",
          "height": 52
        },
        "outputId": "ea313bf2-46c8-4dc9-f802-d3012df3f325"
      },
      "source": [
        "print(\"sample words not found: \", np.random.choice(words_not_found, 10))"
      ],
      "execution_count": 45,
      "outputs": [
        {
          "output_type": "stream",
          "text": [
            "sample words not found:  ['dinallyhot' 't8uqm7imir' 'jet\\x89ûªs' 'shizune' 'catwoman1775' 'vjday70'\n",
            " 'zgjgghdurf' 's0eyq1wehe' '6qc8whdizy' 'efc3896qgr']\n"
          ],
          "name": "stdout"
        }
      ]
    },
    {
      "cell_type": "markdown",
      "metadata": {
        "id": "MwneiTphnQkP",
        "colab_type": "text"
      },
      "source": [
        "wait.. fastText has more null words?"
      ]
    },
    {
      "cell_type": "code",
      "metadata": {
        "colab_type": "code",
        "id": "uyxkTeconZGt",
        "colab": {}
      },
      "source": [
        "# we don't want the model to overwrite, dont we?\n",
        "keras.backend.clear_session()"
      ],
      "execution_count": 46,
      "outputs": []
    },
    {
      "cell_type": "code",
      "metadata": {
        "colab_type": "code",
        "id": "q717a8qHnZG7",
        "colab": {
          "base_uri": "https://localhost:8080/",
          "height": 458
        },
        "outputId": "0f6dda35-116f-4517-fcea-a92e82247502"
      },
      "source": [
        "#CNN architecture\n",
        "print(\"training CNN ...\")\n",
        "model = Sequential()\n",
        "model.add(Embedding(nb_words, embed_dim,\n",
        "          weights=[embedding_matrix], input_length=max_seq_len, trainable=False))\n",
        "model.add(Conv1D(num_filters, 7, activation='relu', padding='same'))\n",
        "model.add(MaxPooling1D(2))\n",
        "model.add(Conv1D(num_filters, 7, activation='relu', padding='same'))\n",
        "model.add(GlobalMaxPooling1D())\n",
        "model.add(Dropout(0.5))\n",
        "model.add(Dense(32, activation='relu', kernel_regularizer=regularizers.l2(weight_decay)))\n",
        "model.add(Dense(num_classes, activation='sigmoid'))  #multi-label (k-hot encoding)\n",
        "\n",
        "adam = optimizers.Adam(lr=0.001, beta_1=0.9, beta_2=0.999, epsilon=1e-08, decay=0.0)\n",
        "model.compile(loss='binary_crossentropy', optimizer=adam, metrics=['accuracy'])\n",
        "model.summary()"
      ],
      "execution_count": 47,
      "outputs": [
        {
          "output_type": "stream",
          "text": [
            "training CNN ...\n",
            "Model: \"sequential\"\n",
            "_________________________________________________________________\n",
            "Layer (type)                 Output Shape              Param #   \n",
            "=================================================================\n",
            "embedding (Embedding)        (None, 21, 300)           8615400   \n",
            "_________________________________________________________________\n",
            "conv1d (Conv1D)              (None, 21, 64)            134464    \n",
            "_________________________________________________________________\n",
            "max_pooling1d (MaxPooling1D) (None, 10, 64)            0         \n",
            "_________________________________________________________________\n",
            "conv1d_1 (Conv1D)            (None, 10, 64)            28736     \n",
            "_________________________________________________________________\n",
            "global_max_pooling1d (Global (None, 64)                0         \n",
            "_________________________________________________________________\n",
            "dropout (Dropout)            (None, 64)                0         \n",
            "_________________________________________________________________\n",
            "dense (Dense)                (None, 32)                2080      \n",
            "_________________________________________________________________\n",
            "dense_1 (Dense)              (None, 1)                 33        \n",
            "=================================================================\n",
            "Total params: 8,780,713\n",
            "Trainable params: 165,313\n",
            "Non-trainable params: 8,615,400\n",
            "_________________________________________________________________\n"
          ],
          "name": "stdout"
        }
      ]
    },
    {
      "cell_type": "code",
      "metadata": {
        "colab_type": "code",
        "id": "jlFIjhKunZHI",
        "colab": {}
      },
      "source": [
        "from keras.optimizers import RMSprop\n",
        "from keras.callbacks import ModelCheckpoint\n",
        "from tensorflow.keras.callbacks import EarlyStopping\n",
        "\n",
        "model.compile(loss='binary_crossentropy', optimizer='adam', metrics=['accuracy'])"
      ],
      "execution_count": 48,
      "outputs": []
    },
    {
      "cell_type": "code",
      "metadata": {
        "colab_type": "code",
        "id": "8nqBct_dnZHN",
        "colab": {
          "base_uri": "https://localhost:8080/",
          "height": 299
        },
        "outputId": "16a9c210-06c7-4e92-f008-3e9325db997d"
      },
      "source": [
        "es_callback = EarlyStopping(monitor='val_loss', patience=3)\n",
        "\n",
        "history = model.fit(word_seq_train, y_train, batch_size=256,\n",
        "          epochs=num_epochs, validation_split=0.3, callbacks=[es_callback], shuffle=False)"
      ],
      "execution_count": 49,
      "outputs": [
        {
          "output_type": "stream",
          "text": [
            "Epoch 1/40\n",
            "21/21 [==============================] - 2s 109ms/step - loss: 0.6707 - accuracy: 0.6275 - val_loss: 0.5622 - val_accuracy: 0.7053\n",
            "Epoch 2/40\n",
            "21/21 [==============================] - 2s 103ms/step - loss: 0.5276 - accuracy: 0.7624 - val_loss: 0.4746 - val_accuracy: 0.7907\n",
            "Epoch 3/40\n",
            "21/21 [==============================] - 2s 105ms/step - loss: 0.4565 - accuracy: 0.8035 - val_loss: 0.4672 - val_accuracy: 0.8008\n",
            "Epoch 4/40\n",
            "21/21 [==============================] - 2s 103ms/step - loss: 0.4131 - accuracy: 0.8292 - val_loss: 0.4551 - val_accuracy: 0.8060\n",
            "Epoch 5/40\n",
            "21/21 [==============================] - 2s 104ms/step - loss: 0.3703 - accuracy: 0.8534 - val_loss: 0.4398 - val_accuracy: 0.8126\n",
            "Epoch 6/40\n",
            "21/21 [==============================] - 3s 156ms/step - loss: 0.3335 - accuracy: 0.8694 - val_loss: 0.4569 - val_accuracy: 0.8087\n",
            "Epoch 7/40\n",
            "21/21 [==============================] - 2s 106ms/step - loss: 0.2914 - accuracy: 0.8925 - val_loss: 0.4723 - val_accuracy: 0.8030\n",
            "Epoch 8/40\n",
            "21/21 [==============================] - 2s 104ms/step - loss: 0.2476 - accuracy: 0.9084 - val_loss: 0.4848 - val_accuracy: 0.7947\n"
          ],
          "name": "stdout"
        }
      ]
    },
    {
      "cell_type": "code",
      "metadata": {
        "colab_type": "code",
        "id": "mnP6q-uDnkzb",
        "colab": {}
      },
      "source": [
        "predictions = model.predict_classes(word_seq_test)"
      ],
      "execution_count": 50,
      "outputs": []
    },
    {
      "cell_type": "code",
      "metadata": {
        "colab_type": "code",
        "id": "per9hhklnkzs",
        "colab": {}
      },
      "source": [
        "sample=pd.read_csv('sample_submission.csv')\n",
        "sample['target']= (predictions>0.5).astype(int)\n",
        "sample.to_csv(\"submission.csv\",index=False, header=True)"
      ],
      "execution_count": 51,
      "outputs": []
    },
    {
      "cell_type": "code",
      "metadata": {
        "colab_type": "code",
        "id": "kyN8T9NQnkz2",
        "colab": {}
      },
      "source": [
        "sample.head(20)"
      ],
      "execution_count": null,
      "outputs": []
    },
    {
      "cell_type": "code",
      "metadata": {
        "colab_type": "code",
        "id": "kFhbfoRJnkz8",
        "colab": {
          "base_uri": "https://localhost:8080/",
          "height": 70
        },
        "outputId": "7166f1ab-805b-442c-f147-6b37085b4398"
      },
      "source": [
        "# i'll try to submit this and know the accuracy if applied to real test\n",
        "!kaggle competitions submit -c nlp-getting-started -f submission.csv -m \"Using CNN with Glove Word-Embedding\""
      ],
      "execution_count": 54,
      "outputs": [
        {
          "output_type": "stream",
          "text": [
            "Warning: Looks like you're using an outdated API Version, please consider updating (server 1.5.6 / client 1.5.4)\n",
            "100% 22.2k/22.2k [00:03<00:00, 7.06kB/s]\n",
            "Successfully submitted to Real or Not? NLP with Disaster Tweets"
          ],
          "name": "stdout"
        }
      ]
    },
    {
      "cell_type": "markdown",
      "metadata": {
        "id": "GzpJaZRGn6_l",
        "colab_type": "text"
      },
      "source": [
        "well, the result is **79.5%**! it's the almost the same with cnn using fastText. on training, it shows a higher number on accuracy tho..\n",
        "\n",
        "###**anyway i'm not satisfied yet so im just gonna tried LSTM using glove.**"
      ]
    },
    {
      "cell_type": "code",
      "metadata": {
        "id": "-owyLu6mod8x",
        "colab_type": "code",
        "colab": {}
      },
      "source": [
        "# we don't want the model to overwrite, dont we?\n",
        "keras.backend.clear_session()"
      ],
      "execution_count": 55,
      "outputs": []
    },
    {
      "cell_type": "code",
      "metadata": {
        "colab_type": "code",
        "id": "QK19UWRroiwW",
        "colab": {
          "base_uri": "https://localhost:8080/",
          "height": 547
        },
        "outputId": "d7787e76-3e26-49aa-bf99-2b7d71a48cab"
      },
      "source": [
        "from keras.layers import BatchNormalization\n",
        "import tensorflow as tf\n",
        "\n",
        "model = tf.keras.Sequential()\n",
        "\n",
        "model.add(Embedding(nb_words,embed_dim,input_length=max_seq_len, weights=[embedding_matrix],trainable=False))\n",
        "\n",
        "model.add(Dropout(0.3))\n",
        "model.add(Dense(32,activation='relu'))\n",
        "model.add(Bidirectional(LSTM(64,return_sequences= True)))\n",
        "model.add(Bidirectional(LSTM(64,return_sequences= True)))\n",
        "model.add(Bidirectional(LSTM(64,return_sequences= True)))\n",
        "model.add(Bidirectional(LSTM(64,return_sequences= True)))\n",
        "model.add(Bidirectional(LSTM(32)))\n",
        "model.add(Dense(32,activation='relu'))\n",
        "model.add(Dropout(0.3))\n",
        "\n",
        "model.add(Dense(1,activation='sigmoid'))\n",
        "model.summary()"
      ],
      "execution_count": 56,
      "outputs": [
        {
          "output_type": "stream",
          "text": [
            "Model: \"sequential\"\n",
            "_________________________________________________________________\n",
            "Layer (type)                 Output Shape              Param #   \n",
            "=================================================================\n",
            "embedding (Embedding)        (None, 21, 300)           8615400   \n",
            "_________________________________________________________________\n",
            "dropout (Dropout)            (None, 21, 300)           0         \n",
            "_________________________________________________________________\n",
            "dense (Dense)                (None, 21, 32)            9632      \n",
            "_________________________________________________________________\n",
            "bidirectional (Bidirectional (None, 21, 128)           49664     \n",
            "_________________________________________________________________\n",
            "bidirectional_1 (Bidirection (None, 21, 128)           98816     \n",
            "_________________________________________________________________\n",
            "bidirectional_2 (Bidirection (None, 21, 128)           98816     \n",
            "_________________________________________________________________\n",
            "bidirectional_3 (Bidirection (None, 21, 128)           98816     \n",
            "_________________________________________________________________\n",
            "bidirectional_4 (Bidirection (None, 64)                41216     \n",
            "_________________________________________________________________\n",
            "dense_1 (Dense)              (None, 32)                2080      \n",
            "_________________________________________________________________\n",
            "dropout_1 (Dropout)          (None, 32)                0         \n",
            "_________________________________________________________________\n",
            "dense_2 (Dense)              (None, 1)                 33        \n",
            "=================================================================\n",
            "Total params: 9,014,473\n",
            "Trainable params: 399,073\n",
            "Non-trainable params: 8,615,400\n",
            "_________________________________________________________________\n"
          ],
          "name": "stdout"
        }
      ]
    },
    {
      "cell_type": "code",
      "metadata": {
        "colab_type": "code",
        "id": "TXHUgzURoiwq",
        "colab": {}
      },
      "source": [
        "from keras.optimizers import RMSprop\n",
        "from keras.callbacks import ModelCheckpoint\n",
        "from tensorflow.keras.callbacks import EarlyStopping\n",
        "\n",
        "model.compile(loss='binary_crossentropy', optimizer='adam', metrics=['accuracy'])"
      ],
      "execution_count": 57,
      "outputs": []
    },
    {
      "cell_type": "code",
      "metadata": {
        "colab_type": "code",
        "id": "1IO5V9gioiwy",
        "colab": {
          "base_uri": "https://localhost:8080/",
          "height": 441
        },
        "outputId": "6772a485-babb-4659-b53c-0433007f1ae8"
      },
      "source": [
        "es_callback = EarlyStopping(monitor='val_loss', patience=3)\n",
        "\n",
        "history = model.fit(word_seq_train, y_train, batch_size=256,\n",
        "          epochs=num_epochs, validation_split=0.3, callbacks=[es_callback], shuffle=False)"
      ],
      "execution_count": 58,
      "outputs": [
        {
          "output_type": "stream",
          "text": [
            "Epoch 1/40\n",
            "21/21 [==============================] - 16s 747ms/step - loss: 0.6512 - accuracy: 0.6371 - val_loss: 0.5185 - val_accuracy: 0.7666\n",
            "Epoch 2/40\n",
            "21/21 [==============================] - 12s 587ms/step - loss: 0.5265 - accuracy: 0.7664 - val_loss: 0.4814 - val_accuracy: 0.7898\n",
            "Epoch 3/40\n",
            "21/21 [==============================] - 12s 590ms/step - loss: 0.4905 - accuracy: 0.7887 - val_loss: 0.4640 - val_accuracy: 0.7929\n",
            "Epoch 4/40\n",
            "21/21 [==============================] - 12s 587ms/step - loss: 0.4717 - accuracy: 0.7925 - val_loss: 0.4529 - val_accuracy: 0.7973\n",
            "Epoch 5/40\n",
            "21/21 [==============================] - 13s 599ms/step - loss: 0.4571 - accuracy: 0.8018 - val_loss: 0.4359 - val_accuracy: 0.8087\n",
            "Epoch 6/40\n",
            "21/21 [==============================] - 12s 590ms/step - loss: 0.4428 - accuracy: 0.8105 - val_loss: 0.4329 - val_accuracy: 0.7986\n",
            "Epoch 7/40\n",
            "21/21 [==============================] - 12s 589ms/step - loss: 0.4390 - accuracy: 0.8161 - val_loss: 0.4233 - val_accuracy: 0.8148\n",
            "Epoch 8/40\n",
            "21/21 [==============================] - 12s 586ms/step - loss: 0.4284 - accuracy: 0.8180 - val_loss: 0.4186 - val_accuracy: 0.8148\n",
            "Epoch 9/40\n",
            "21/21 [==============================] - 12s 584ms/step - loss: 0.4224 - accuracy: 0.8191 - val_loss: 0.4138 - val_accuracy: 0.8157\n",
            "Epoch 10/40\n",
            "21/21 [==============================] - 12s 591ms/step - loss: 0.4161 - accuracy: 0.8221 - val_loss: 0.4142 - val_accuracy: 0.8218\n",
            "Epoch 11/40\n",
            "21/21 [==============================] - 12s 585ms/step - loss: 0.4152 - accuracy: 0.8202 - val_loss: 0.4286 - val_accuracy: 0.8179\n",
            "Epoch 12/40\n",
            "21/21 [==============================] - 12s 585ms/step - loss: 0.4065 - accuracy: 0.8321 - val_loss: 0.4396 - val_accuracy: 0.8174\n"
          ],
          "name": "stdout"
        }
      ]
    },
    {
      "cell_type": "code",
      "metadata": {
        "colab_type": "code",
        "id": "oA1x6VaYowPQ",
        "colab": {}
      },
      "source": [
        "predictions = model.predict_classes(word_seq_test)"
      ],
      "execution_count": 59,
      "outputs": []
    },
    {
      "cell_type": "code",
      "metadata": {
        "colab_type": "code",
        "id": "tDiPNbKCowPi",
        "colab": {}
      },
      "source": [
        "sample=pd.read_csv('sample_submission.csv')\n",
        "sample['target']= (predictions>0.5).astype(int)\n",
        "sample.to_csv(\"submission.csv\",index=False, header=True)"
      ],
      "execution_count": 60,
      "outputs": []
    },
    {
      "cell_type": "code",
      "metadata": {
        "colab_type": "code",
        "id": "hOjEQ33OowPr",
        "colab": {}
      },
      "source": [
        "sample.head(20)"
      ],
      "execution_count": null,
      "outputs": []
    },
    {
      "cell_type": "code",
      "metadata": {
        "colab_type": "code",
        "id": "BJTZPYGiowPw",
        "colab": {
          "base_uri": "https://localhost:8080/",
          "height": 70
        },
        "outputId": "6e96e02f-bbaf-4467-c51f-b1e983c11195"
      },
      "source": [
        "# i'll try to submit this and know the accuracy if applied to real test\n",
        "!kaggle competitions submit -c nlp-getting-started -f submission.csv -m \"Using LSTM with Glove Word-Embedding\""
      ],
      "execution_count": 62,
      "outputs": [
        {
          "output_type": "stream",
          "text": [
            "Warning: Looks like you're using an outdated API Version, please consider updating (server 1.5.6 / client 1.5.4)\n",
            "100% 22.2k/22.2k [00:01<00:00, 16.1kB/s]\n",
            "Successfully submitted to Real or Not? NLP with Disaster Tweets"
          ],
          "name": "stdout"
        }
      ]
    },
    {
      "cell_type": "markdown",
      "metadata": {
        "id": "NFU9xT6kpgIf",
        "colab_type": "text"
      },
      "source": [
        "**it's 79.6%!**"
      ]
    },
    {
      "cell_type": "markdown",
      "metadata": {
        "id": "sJnyfTY2pvuv",
        "colab_type": "text"
      },
      "source": [
        "**well, so far from my experiments, fastText and LSTM showed the best performance. but it's still not very sure if it's really like that because validation splitting influence the performance too, also how i build the layers, choosing batch size, optimizer, and stuff.**\n",
        "\n",
        "**thank you if youre reading the comments too! i hope you have a great day!**"
      ]
    }
  ]
}
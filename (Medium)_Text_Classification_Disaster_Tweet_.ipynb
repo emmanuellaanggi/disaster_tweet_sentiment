{
  "nbformat": 4,
  "nbformat_minor": 0,
  "metadata": {
    "colab": {
      "name": "(Medium) Text Classification Disaster Tweet .ipynb",
      "provenance": [],
      "collapsed_sections": [
        "MOz59iBtVopX"
      ],
      "authorship_tag": "ABX9TyOX/PiUptTXAI6FRvW35rL4",
      "include_colab_link": true
    },
    "kernelspec": {
      "name": "python3",
      "display_name": "Python 3"
    }
  },
  "cells": [
    {
      "cell_type": "markdown",
      "metadata": {
        "id": "view-in-github",
        "colab_type": "text"
      },
      "source": [
        "<a href=\"https://colab.research.google.com/github/emmanuellaanggi/disaster_tweet_sentiment/blob/master/(Medium)_Text_Classification_Disaster_Tweet_.ipynb\" target=\"_parent\"><img src=\"https://colab.research.google.com/assets/colab-badge.svg\" alt=\"Open In Colab\"/></a>"
      ]
    },
    {
      "cell_type": "markdown",
      "metadata": {
        "id": "39QHYVX9k0uJ",
        "colab_type": "text"
      },
      "source": [
        "# **Download Data from kaggle**\n",
        "\n",
        "First, the data. first things first is installing kaggle to my environment i dont have to download the data to my drive/local. It's super efficient.\n",
        "\n",
        "To get the API, go to your kaggle profile and download the JSON file!"
      ]
    },
    {
      "cell_type": "code",
      "metadata": {
        "id": "Jn74l2OE2RLf",
        "colab_type": "code",
        "colab": {}
      },
      "source": [
        "! pip install -q kaggle\n",
        "! mkdir ~/.kaggle\n",
        "! cp kaggle.json ~/.kaggle/\n",
        "! chmod 600 ~/.kaggle/kaggle.json"
      ],
      "execution_count": 1,
      "outputs": []
    },
    {
      "cell_type": "markdown",
      "metadata": {
        "id": "tn_NXygs73AB",
        "colab_type": "text"
      },
      "source": [
        "download the dataset directly by copying the API command on the dataset page"
      ]
    },
    {
      "cell_type": "code",
      "metadata": {
        "id": "NQRHwMsD3vF-",
        "colab_type": "code",
        "colab": {}
      },
      "source": [
        "! kaggle competitions download -c nlp-getting-started"
      ],
      "execution_count": null,
      "outputs": []
    },
    {
      "cell_type": "markdown",
      "metadata": {
        "id": "2H7Ynha2lHj7",
        "colab_type": "text"
      },
      "source": [
        "#**Downloading pre-trained fastText, preparing datasets, and pre-processing**"
      ]
    },
    {
      "cell_type": "code",
      "metadata": {
        "id": "DlC4m7alB44c",
        "colab_type": "code",
        "colab": {}
      },
      "source": [
        "import requests, zipfile, io\n",
        "zip_file_url = \"https://dl.fbaipublicfiles.com/fasttext/vectors-english/crawl-300d-2M.vec.zip\"\n",
        "r = requests.get(zip_file_url)\n",
        "z = zipfile.ZipFile(io.BytesIO(r.content))\n",
        "z.extractall()"
      ],
      "execution_count": 17,
      "outputs": []
    },
    {
      "cell_type": "code",
      "metadata": {
        "id": "JEh0D8DSH1L4",
        "colab_type": "code",
        "colab": {
          "base_uri": "https://localhost:8080/",
          "height": 71
        },
        "outputId": "24ce7b9e-50d8-4e3e-b9eb-50af7ee6faa8"
      },
      "source": [
        "#For Pre-Processing\n",
        "from tqdm import tqdm\n",
        "import nltk\n",
        "from nltk.corpus import stopwords\n",
        "nltk.download('stopwords')\n",
        "nltk.download('punkt')\n",
        "from nltk.tokenize import RegexpTokenizer \n",
        "from nltk.tokenize import word_tokenize\n",
        "import os, re, csv, math, codecs\n",
        "\n",
        "\n",
        "# For Training\n",
        "import keras\n",
        "from keras import optimizers\n",
        "from keras import backend as K\n",
        "from keras import regularizers\n",
        "from keras.models import Sequential\n",
        "from keras.layers import Dense, Activation, Dropout, Flatten\n",
        "from keras.layers import Embedding, Conv1D, MaxPooling1D, GlobalMaxPooling1D\n",
        "from tensorflow.keras.layers import Embedding, LSTM, Dense, Dropout, Bidirectional\n",
        "from keras.utils import plot_model\n",
        "from keras.preprocessing import sequence\n",
        "from keras.preprocessing.text import Tokenizer\n",
        "from keras.callbacks import EarlyStopping\n",
        "\n",
        "# For array, dataset, and visualizing\n",
        "import numpy as np\n",
        "import pandas as pd\n",
        "import seaborn as sns\n",
        "import matplotlib.pyplot as plt\n",
        "\n",
        "sns.set_style(\"whitegrid\")\n",
        "np.random.seed(0)\n",
        "\n",
        "MAX_NB_WORDS = 100000\n",
        "tokenizer = RegexpTokenizer(r'\\w+')\n",
        "stop_words = set(stopwords.words('english'))\n",
        "stop_words.update(['.', ',', '\"', \"'\", ':', ';', '(', ')', '[', ']', '{', '}'])"
      ],
      "execution_count": 1,
      "outputs": [
        {
          "output_type": "stream",
          "text": [
            "/usr/local/lib/python3.6/dist-packages/statsmodels/tools/_testing.py:19: FutureWarning: pandas.util.testing is deprecated. Use the functions in the public API at pandas.testing instead.\n",
            "  import pandas.util.testing as tm\n"
          ],
          "name": "stderr"
        }
      ]
    },
    {
      "cell_type": "markdown",
      "metadata": {
        "id": "OryI3DKE8tr8",
        "colab_type": "text"
      },
      "source": [
        "\n",
        "Converting all the words to index in number, to the embedding index in pre-trained model and converted all the missing words to 0,"
      ]
    },
    {
      "cell_type": "code",
      "metadata": {
        "id": "IPqS-8FcEN95",
        "colab_type": "code",
        "colab": {
          "base_uri": "https://localhost:8080/",
          "height": 68
        },
        "outputId": "0cc3e42a-ca6d-4788-81d7-73507ed65562"
      },
      "source": [
        "print('loading word embeddings...')\n",
        "\n",
        "embeddings_index = {}\n",
        "f = codecs.open('crawl-300d-2M.vec', encoding='utf-8')\n",
        "\n",
        "for line in tqdm(f):\n",
        "    values = line.rstrip().rsplit(' ')\n",
        "    word = values[0]\n",
        "    coefs = np.asarray(values[1:], dtype='float32')\n",
        "    embeddings_index[word] = coefs\n",
        "f.close()\n",
        "\n",
        "print('found %s word vectors' % len(embeddings_index))"
      ],
      "execution_count": 27,
      "outputs": [
        {
          "output_type": "stream",
          "text": [
            "957it [00:00, 9561.73it/s]"
          ],
          "name": "stderr"
        },
        {
          "output_type": "stream",
          "text": [
            "loading word embeddings...\n"
          ],
          "name": "stdout"
        },
        {
          "output_type": "stream",
          "text": [
            "1999996it [03:28, 9609.17it/s]"
          ],
          "name": "stderr"
        },
        {
          "output_type": "stream",
          "text": [
            "found 1999996 word vectors\n"
          ],
          "name": "stdout"
        },
        {
          "output_type": "stream",
          "text": [
            "\n"
          ],
          "name": "stderr"
        }
      ]
    },
    {
      "cell_type": "markdown",
      "metadata": {
        "id": "0f453DpY80zi",
        "colab_type": "text"
      },
      "source": [
        "Read both the train data and test data"
      ]
    },
    {
      "cell_type": "code",
      "metadata": {
        "id": "gXof0wFo6Q8a",
        "colab_type": "code",
        "colab": {
          "base_uri": "https://localhost:8080/",
          "height": 51
        },
        "outputId": "916f86a0-4cce-47f0-ce30-cb6fb7948393"
      },
      "source": [
        "from sklearn.model_selection import train_test_split\n",
        "#load data\n",
        "data = pd.read_csv('train.csv', sep=',', header=0)\n",
        "train_data, test_data = train_test_split(data, test_size=0.2, random_state=42, shuffle=True)\n",
        "test_data.to_csv(\"test_dat.csv\")\n",
        "train_data.to_csv(\"train_dat.csv\")\n",
        "\n",
        "train_df = pd.read_csv('train_dat.csv', sep=',', header=0)\n",
        "test_df = pd.read_csv('test_dat.csv', sep=',', header=0)\n",
        "test_df = test_df.fillna('_NA_')\n",
        "\n",
        "print(\"Number of training data \", train_df.shape[0])\n",
        "print(\"Number of testing data: \", test_df.shape[0])"
      ],
      "execution_count": 28,
      "outputs": [
        {
          "output_type": "stream",
          "text": [
            "Number of training data  6090\n",
            "Number of testing data:  1523\n"
          ],
          "name": "stdout"
        }
      ]
    },
    {
      "cell_type": "code",
      "metadata": {
        "id": "QQARD6HcIGYs",
        "colab_type": "code",
        "colab": {
          "base_uri": "https://localhost:8080/",
          "height": 296
        },
        "outputId": "0e2fd304-5f35-4493-884a-7c94207a7af0"
      },
      "source": [
        "label_names = [\"target\"]\n",
        "y_train = train_df[label_names].values\n",
        "train_df['doc_len'] = train_df['text'].apply(lambda words: len(words.split(\" \")))\n",
        "max_seq_len = np.round(train_df['doc_len'].mean() + train_df['doc_len'].std()).astype(int)\n",
        "\n",
        "sns.distplot(train_df['doc_len'], hist=True, kde=True, color='b', label='doc len')\n",
        "plt.axvline(x=max_seq_len, color='k', linestyle='--', label='max len')\n",
        "plt.title('comment length'); plt.legend()\n",
        "plt.show()"
      ],
      "execution_count": 29,
      "outputs": [
        {
          "output_type": "display_data",
          "data": {
            "image/png": "[encoded data removed]",
            "text/plain": [
              "<Figure size 432x288 with 1 Axes>"
            ]
          },
          "metadata": {
            "tags": [],
            "needs_background": "light"
          }
        }
      ]
    },
    {
      "cell_type": "markdown",
      "metadata": {
        "id": "a_AOE1b5elSz",
        "colab_type": "text"
      },
      "source": [
        "tokenizing the data with tokenizer from tensorflow"
      ]
    },
    {
      "cell_type": "code",
      "metadata": {
        "id": "Cc_9P1cEGg5J",
        "colab_type": "code",
        "colab": {
          "base_uri": "https://localhost:8080/",
          "height": 102
        },
        "outputId": "1f2cdd15-dedd-4593-b8a4-59b40abc4b1c"
      },
      "source": [
        "from sklearn.utils import shuffle \n",
        "\n",
        "raw_docs_train = train_df['text'].tolist()\n",
        "raw_docs_test = test_df['text'].tolist() \n",
        "num_classes = len(label_names)\n",
        "\n",
        "print(\"pre-processing train data...\")\n",
        "\n",
        "processed_docs_train = []\n",
        "for doc in tqdm(raw_docs_train):\n",
        "    tokens = word_tokenize(doc)\n",
        "    filtered = [word for word in tokens if word not in stop_words]\n",
        "    processed_docs_train.append(\" \".join(filtered))\n",
        "#end for\n",
        "\n",
        "processed_docs_test = []\n",
        "for doc in tqdm(raw_docs_test):\n",
        "    tokens = word_tokenize(doc)\n",
        "    filtered = [word for word in tokens if word not in stop_words]\n",
        "    processed_docs_test.append(\" \".join(filtered))\n",
        "#end for\n",
        "\n",
        "print(\"tokenizing input data...\")\n",
        "tokenizer = Tokenizer(num_words=MAX_NB_WORDS, lower=True, char_level=False)\n",
        "tokenizer.fit_on_texts(processed_docs_train + processed_docs_test)  #leaky\n",
        "word_seq_train = tokenizer.texts_to_sequences(processed_docs_train)\n",
        "word_seq_test = tokenizer.texts_to_sequences(processed_docs_test)\n",
        "word_index = tokenizer.word_index\n",
        "print(\"dictionary size: \", len(word_index))\n",
        "\n",
        "#pad sequences\n",
        "word_seq_train = sequence.pad_sequences(word_seq_train, maxlen=max_seq_len)\n",
        "word_seq_test = sequence.pad_sequences(word_seq_test, maxlen=max_seq_len)"
      ],
      "execution_count": 30,
      "outputs": [
        {
          "output_type": "stream",
          "text": [
            "  7%|▋         | 416/6090 [00:00<00:01, 4158.94it/s]"
          ],
          "name": "stderr"
        },
        {
          "output_type": "stream",
          "text": [
            "pre-processing train data...\n"
          ],
          "name": "stdout"
        },
        {
          "output_type": "stream",
          "text": [
            "100%|██████████| 6090/6090 [00:01<00:00, 4575.12it/s]\n",
            "100%|██████████| 1523/1523 [00:00<00:00, 4567.71it/s]\n"
          ],
          "name": "stderr"
        },
        {
          "output_type": "stream",
          "text": [
            "tokenizing input data...\n",
            "dictionary size:  22258\n"
          ],
          "name": "stdout"
        }
      ]
    },
    {
      "cell_type": "markdown",
      "metadata": {
        "id": "IpGENGlOtQs1",
        "colab_type": "text"
      },
      "source": [
        "#**Shape and Train with LSTM**"
      ]
    },
    {
      "cell_type": "markdown",
      "metadata": {
        "id": "Nyj7gwQKexxy",
        "colab_type": "text"
      },
      "source": [
        "defining variables that used on training"
      ]
    },
    {
      "cell_type": "code",
      "metadata": {
        "id": "PSZ3krGMG303",
        "colab_type": "code",
        "colab": {}
      },
      "source": [
        "#training params\n",
        "batch_size = 256 \n",
        "num_epochs = 40\n",
        "\n",
        "#model parameters\n",
        "num_filters = 64 \n",
        "embed_dim = 300 \n",
        "weight_decay = 1e-4"
      ],
      "execution_count": 31,
      "outputs": []
    },
    {
      "cell_type": "markdown",
      "metadata": {
        "id": "fZ6AlbhZe4Ky",
        "colab_type": "text"
      },
      "source": [
        "building the embedding matrix for the weights in Embedding Layer on training. more about embedding matrix: https://machinelearningmastery.com/use-word-embedding-layers-deep-learning-keras/\n",
        "\n",
        "all words that aren't in the pre-trained model from fasttext would be changed to 0. the words are basically the ones with typos or names, the words mostly dont matter so much to the pattern. so it's nicer to just weights it 0."
      ]
    },
    {
      "cell_type": "code",
      "metadata": {
        "id": "8SJbfuJPJEDC",
        "colab_type": "code",
        "colab": {
          "base_uri": "https://localhost:8080/",
          "height": 51
        },
        "outputId": "6f0e9172-fff2-46d8-bb80-addb93f0ebe7"
      },
      "source": [
        "#embedding matrix\n",
        "\n",
        "print('preparing embedding matrix...')\n",
        "\n",
        "words_not_found = []\n",
        "nb_words = min(MAX_NB_WORDS, len(word_index)+1)\n",
        "embedding_matrix = np.zeros((nb_words, embed_dim))\n",
        "\n",
        "for word, i in word_index.items():\n",
        "    if i >= nb_words:\n",
        "        continue\n",
        "    embedding_vector = embeddings_index.get(word)\n",
        "    if (embedding_vector is not None) and len(embedding_vector) > 0:\n",
        "        # words not found in embedding index will be all-zeros.\n",
        "        embedding_matrix[i] = embedding_vector\n",
        "    else:\n",
        "        words_not_found.append(word)\n",
        "print('number of null word embeddings: %d' % np.sum(np.sum(embedding_matrix, axis=1) == 0))"
      ],
      "execution_count": 32,
      "outputs": [
        {
          "output_type": "stream",
          "text": [
            "preparing embedding matrix...\n",
            "number of null word embeddings: 9175\n"
          ],
          "name": "stdout"
        }
      ]
    },
    {
      "cell_type": "code",
      "metadata": {
        "id": "S_pjm-7BJGuP",
        "colab_type": "code",
        "colab": {
          "base_uri": "https://localhost:8080/",
          "height": 68
        },
        "outputId": "43728475-f179-485f-e9dc-328d4c54be08"
      },
      "source": [
        "print(\"sample words not found: \", np.random.choice(words_not_found, 10))"
      ],
      "execution_count": 33,
      "outputs": [
        {
          "output_type": "stream",
          "text": [
            "sample words not found:  ['cfe9huqn0h' 'hereticofethics' '93infxzhx0' '15000270653' 'd50orfxofb'\n",
            " 'splatling' 'littlebitofbass' 'keepingtheviginaclean' 'lzob8qoh1b'\n",
            " 'canagal']\n"
          ],
          "name": "stdout"
        }
      ]
    },
    {
      "cell_type": "markdown",
      "metadata": {
        "id": "SUBAkn22ga48",
        "colab_type": "text"
      },
      "source": [
        "let's start training! here are the layers. i have been doing some test and modification on using the layer, unit cells, etc. and so far it works the best for me. tell me i"
      ]
    },
    {
      "cell_type": "code",
      "metadata": {
        "id": "xpX2AFhKJJsh",
        "colab_type": "code",
        "colab": {
          "base_uri": "https://localhost:8080/",
          "height": 323
        },
        "outputId": "9e4b7616-9915-44a0-a1e4-0c03748c6299"
      },
      "source": [
        "from keras.layers import BatchNormalization\n",
        "import tensorflow as tf\n",
        "\n",
        "model = tf.keras.Sequential()\n",
        "\n",
        "model.add(Embedding(nb_words,embed_dim,input_length=max_seq_len, weights=[embedding_matrix],trainable=False))\n",
        "model.add(Bidirectional(LSTM(32)))\n",
        "model.add(Dense(32,activation='relu'))\n",
        "model.add(Dropout(0.4))\n",
        "model.add(Dense(1,activation='sigmoid'))\n",
        "model.summary()"
      ],
      "execution_count": 34,
      "outputs": [
        {
          "output_type": "stream",
          "text": [
            "Model: \"sequential_1\"\n",
            "_________________________________________________________________\n",
            "Layer (type)                 Output Shape              Param #   \n",
            "=================================================================\n",
            "embedding_1 (Embedding)      (None, 21, 300)           6677700   \n",
            "_________________________________________________________________\n",
            "bidirectional_1 (Bidirection (None, 64)                85248     \n",
            "_________________________________________________________________\n",
            "dense_2 (Dense)              (None, 32)                2080      \n",
            "_________________________________________________________________\n",
            "dropout_1 (Dropout)          (None, 32)                0         \n",
            "_________________________________________________________________\n",
            "dense_3 (Dense)              (None, 1)                 33        \n",
            "=================================================================\n",
            "Total params: 6,765,061\n",
            "Trainable params: 87,361\n",
            "Non-trainable params: 6,677,700\n",
            "_________________________________________________________________\n"
          ],
          "name": "stdout"
        }
      ]
    },
    {
      "cell_type": "code",
      "metadata": {
        "id": "tCpYrqbaJUb2",
        "colab_type": "code",
        "colab": {}
      },
      "source": [
        "from keras.optimizers import RMSprop\n",
        "from keras.callbacks import ModelCheckpoint\n",
        "from tensorflow.keras.callbacks import EarlyStopping\n",
        "\n",
        "model.compile(loss='binary_crossentropy', optimizer='adam', metrics=['accuracy'])"
      ],
      "execution_count": 35,
      "outputs": []
    },
    {
      "cell_type": "code",
      "metadata": {
        "id": "o9tkbuRaJZ3d",
        "colab_type": "code",
        "colab": {
          "base_uri": "https://localhost:8080/",
          "height": 255
        },
        "outputId": "991ee7e3-ea7c-45c4-fa99-080c962fa3ea"
      },
      "source": [
        "es_callback = EarlyStopping(monitor='val_loss', patience=3)\n",
        "\n",
        "history = model.fit(word_seq_train, y_train, batch_size=256,\n",
        "          epochs=num_epochs, validation_split=0.3, callbacks=[es_callback], shuffle=False)"
      ],
      "execution_count": 36,
      "outputs": [
        {
          "output_type": "stream",
          "text": [
            "Epoch 1/40\n",
            "17/17 [==============================] - 2s 137ms/step - loss: 0.6530 - accuracy: 0.6409 - val_loss: 0.5940 - val_accuracy: 0.7269\n",
            "Epoch 2/40\n",
            "17/17 [==============================] - 2s 90ms/step - loss: 0.5173 - accuracy: 0.7823 - val_loss: 0.4821 - val_accuracy: 0.7739\n",
            "Epoch 3/40\n",
            "17/17 [==============================] - 1s 88ms/step - loss: 0.4450 - accuracy: 0.8105 - val_loss: 0.4577 - val_accuracy: 0.7986\n",
            "Epoch 4/40\n",
            "17/17 [==============================] - 2s 89ms/step - loss: 0.4106 - accuracy: 0.8311 - val_loss: 0.4556 - val_accuracy: 0.7991\n",
            "Epoch 5/40\n",
            "17/17 [==============================] - 2s 89ms/step - loss: 0.3904 - accuracy: 0.8442 - val_loss: 0.4574 - val_accuracy: 0.8041\n",
            "Epoch 6/40\n",
            "17/17 [==============================] - 2s 90ms/step - loss: 0.3755 - accuracy: 0.8510 - val_loss: 0.4573 - val_accuracy: 0.8035\n",
            "Epoch 7/40\n",
            "17/17 [==============================] - 2s 90ms/step - loss: 0.3580 - accuracy: 0.8614 - val_loss: 0.4632 - val_accuracy: 0.8046\n"
          ],
          "name": "stdout"
        }
      ]
    },
    {
      "cell_type": "code",
      "metadata": {
        "id": "mX6utTzSN2pB",
        "colab_type": "code",
        "colab": {
          "base_uri": "https://localhost:8080/",
          "height": 295
        },
        "outputId": "ed3389cd-3807-43a1-98e0-04a66651193c"
      },
      "source": [
        "#generate plots\n",
        "plt.figure()\n",
        "plt.plot(history.history['loss'], lw=2.0, color='b', label='train')\n",
        "plt.plot(history.history['val_loss'], lw=2.0, color='r', label='val')\n",
        "plt.title('LSTM sentiment')\n",
        "plt.xlabel('Epochs')\n",
        "plt.ylabel('Cross-Entropy Loss')\n",
        "plt.legend(loc='upper right')\n",
        "plt.show()"
      ],
      "execution_count": 37,
      "outputs": [
        {
          "output_type": "display_data",
          "data": {
            "image/png": "[encoded data removed]",
            "text/plain": [
              "<Figure size 432x288 with 1 Axes>"
            ]
          },
          "metadata": {
            "tags": [],
            "needs_background": "light"
          }
        }
      ]
    },
    {
      "cell_type": "code",
      "metadata": {
        "id": "PM12-5wFN7tw",
        "colab_type": "code",
        "colab": {
          "base_uri": "https://localhost:8080/",
          "height": 295
        },
        "outputId": "e553884d-61ea-4de7-ef15-f026d43279a9"
      },
      "source": [
        "plt.figure()\n",
        "plt.plot(history.history['accuracy'], lw=2.0, color='b', label='train')\n",
        "plt.plot(history.history['val_accuracy'], lw=2.0, color='r', label='val')\n",
        "plt.title('LSTM sentiment')\n",
        "plt.xlabel('Epochs')\n",
        "plt.ylabel('Accuracy')\n",
        "plt.legend(loc='upper left')\n",
        "plt.show()"
      ],
      "execution_count": 38,
      "outputs": [
        {
          "output_type": "display_data",
          "data": {
            "image/png": "[encoded data removed]",
            "text/plain": [
              "<Figure size 432x288 with 1 Axes>"
            ]
          },
          "metadata": {
            "tags": [],
            "needs_background": "light"
          }
        }
      ]
    },
    {
      "cell_type": "code",
      "metadata": {
        "id": "zHYhQCI-OKRc",
        "colab_type": "code",
        "colab": {}
      },
      "source": [
        "predictions = model.predict_classes(word_seq_test)\n",
        "sample=pd.read_csv('test_dat.csv')\n",
        "sample['pred']= (predictions>0.5).astype(int)\n",
        "sample[['pred', \"target\"]]"
      ],
      "execution_count": null,
      "outputs": []
    },
    {
      "cell_type": "code",
      "metadata": {
        "id": "9r0E47btUHg4",
        "colab_type": "code",
        "colab": {
          "base_uri": "https://localhost:8080/",
          "height": 51
        },
        "outputId": "dea71bbf-32b5-42f1-bba0-81a9c291f258"
      },
      "source": [
        "import sklearn\n",
        "\n",
        "print(\"Accuracy With fastText :\")\n",
        "print(sklearn.metrics.accuracy_score(sample.target, sample.pred))"
      ],
      "execution_count": 40,
      "outputs": [
        {
          "output_type": "stream",
          "text": [
            "Accuracy With fastText :\n",
            "0.8312541037426132\n"
          ],
          "name": "stdout"
        }
      ]
    },
    {
      "cell_type": "code",
      "metadata": {
        "id": "jnGo85O0b2Bi",
        "colab_type": "code",
        "colab": {}
      },
      "source": [
        "# we don't want the model to overwrite, dont we?\n",
        "keras.backend.clear_session()"
      ],
      "execution_count": 41,
      "outputs": []
    },
    {
      "cell_type": "markdown",
      "metadata": {
        "id": "dmRux7Hjipr4",
        "colab_type": "text"
      },
      "source": [
        "it's **80%**! not so good but also not that bad, huh?"
      ]
    },
    {
      "cell_type": "markdown",
      "metadata": {
        "id": "MOz59iBtVopX",
        "colab_type": "text"
      },
      "source": [
        "# **LET'S COMPARE WITH GLOVE!**"
      ]
    },
    {
      "cell_type": "code",
      "metadata": {
        "colab_type": "code",
        "id": "b6A9w95FkhOk",
        "colab": {}
      },
      "source": [
        "import requests, zipfile, io\n",
        "zip_file_url = \"http://nlp.stanford.edu/data/glove.840B.300d.zip\"\n",
        "r = requests.get(zip_file_url)\n",
        "z = zipfile.ZipFile(io.BytesIO(r.content))\n",
        "z.extractall()"
      ],
      "execution_count": 88,
      "outputs": []
    },
    {
      "cell_type": "code",
      "metadata": {
        "colab_type": "code",
        "id": "kRijAxEHkhO9",
        "colab": {
          "base_uri": "https://localhost:8080/",
          "height": 68
        },
        "outputId": "fa9609eb-e6ff-4c3a-fe9e-12d8aaed7b46"
      },
      "source": [
        "print('loading word embeddings...')\n",
        "\n",
        "embeddings_index = {}\n",
        "f = codecs.open('/content/glove.840B.300d.txt', encoding='utf-8')\n",
        "\n",
        "for line in tqdm(f):\n",
        "    values = line.rstrip().rsplit(' ')\n",
        "    word = values[0]\n",
        "    coefs = np.asarray(values[1:], dtype='float32')\n",
        "    embeddings_index[word] = coefs\n",
        "f.close()\n",
        "\n",
        "print('found %s word vectors' % len(embeddings_index))"
      ],
      "execution_count": 42,
      "outputs": [
        {
          "output_type": "stream",
          "text": [
            "827it [00:00, 8264.86it/s]"
          ],
          "name": "stderr"
        },
        {
          "output_type": "stream",
          "text": [
            "loading word embeddings...\n"
          ],
          "name": "stdout"
        },
        {
          "output_type": "stream",
          "text": [
            "2196018it [04:19, 8451.82it/s]"
          ],
          "name": "stderr"
        },
        {
          "output_type": "stream",
          "text": [
            "found 2196016 word vectors\n"
          ],
          "name": "stdout"
        },
        {
          "output_type": "stream",
          "text": [
            "\n"
          ],
          "name": "stderr"
        }
      ]
    },
    {
      "cell_type": "code",
      "metadata": {
        "colab_type": "code",
        "id": "s4iYtJ-akhPR",
        "colab": {
          "base_uri": "https://localhost:8080/",
          "height": 102
        },
        "outputId": "c36e2d4c-08bf-4230-a599-fcf1ea73ade9"
      },
      "source": [
        "from sklearn.utils import shuffle \n",
        "\n",
        "raw_docs_train = train_df['text'].tolist()\n",
        "raw_docs_test = test_df['text'].tolist() \n",
        "num_classes = len(label_names)\n",
        "\n",
        "print(\"pre-processing train data...\")\n",
        "\n",
        "processed_docs_train = []\n",
        "for doc in tqdm(raw_docs_train):\n",
        "    tokens = word_tokenize(doc)\n",
        "    filtered = [word for word in tokens if word not in stop_words]\n",
        "    processed_docs_train.append(\" \".join(filtered))\n",
        "#end for\n",
        "\n",
        "processed_docs_test = []\n",
        "for doc in tqdm(raw_docs_test):\n",
        "    tokens = word_tokenize(doc)\n",
        "    filtered = [word for word in tokens if word not in stop_words]\n",
        "    processed_docs_test.append(\" \".join(filtered))\n",
        "#end for\n",
        "\n",
        "print(\"tokenizing input data...\")\n",
        "tokenizer = Tokenizer(num_words=MAX_NB_WORDS, lower=True, char_level=False)\n",
        "tokenizer.fit_on_texts(processed_docs_train + processed_docs_test)  #leaky\n",
        "word_seq_train = tokenizer.texts_to_sequences(processed_docs_train)\n",
        "word_seq_test = tokenizer.texts_to_sequences(processed_docs_test)\n",
        "word_index = tokenizer.word_index\n",
        "print(\"dictionary size: \", len(word_index))\n",
        "\n",
        "#pad sequences\n",
        "word_seq_train = sequence.pad_sequences(word_seq_train, maxlen=max_seq_len)\n",
        "word_seq_test = sequence.pad_sequences(word_seq_test, maxlen=max_seq_len)"
      ],
      "execution_count": 43,
      "outputs": [
        {
          "output_type": "stream",
          "text": [
            "  7%|▋         | 435/6090 [00:00<00:01, 4343.04it/s]"
          ],
          "name": "stderr"
        },
        {
          "output_type": "stream",
          "text": [
            "pre-processing train data...\n"
          ],
          "name": "stdout"
        },
        {
          "output_type": "stream",
          "text": [
            "100%|██████████| 6090/6090 [00:01<00:00, 4521.24it/s]\n",
            "100%|██████████| 1523/1523 [00:00<00:00, 4688.38it/s]\n"
          ],
          "name": "stderr"
        },
        {
          "output_type": "stream",
          "text": [
            "tokenizing input data...\n",
            "dictionary size:  22258\n"
          ],
          "name": "stdout"
        }
      ]
    },
    {
      "cell_type": "code",
      "metadata": {
        "colab_type": "code",
        "id": "bpO7792HoGIk",
        "colab": {
          "base_uri": "https://localhost:8080/",
          "height": 323
        },
        "outputId": "fe6846e6-420f-4dfd-a860-32b66eee0b86"
      },
      "source": [
        "from keras.layers import BatchNormalization\n",
        "import tensorflow as tf\n",
        "\n",
        "model_glove = tf.keras.Sequential()\n",
        "\n",
        "model_glove.add(Embedding(nb_words,embed_dim,input_length=max_seq_len, weights=[embedding_matrix],trainable=False))\n",
        "model_glove.add(Bidirectional(LSTM(32)))\n",
        "model_glove.add(Dense(32,activation='relu'))\n",
        "model_glove.add(Dropout(0.4))\n",
        "model_glove.add(Dense(1,activation='sigmoid'))\n",
        "model_glove.summary()"
      ],
      "execution_count": 44,
      "outputs": [
        {
          "output_type": "stream",
          "text": [
            "Model: \"sequential\"\n",
            "_________________________________________________________________\n",
            "Layer (type)                 Output Shape              Param #   \n",
            "=================================================================\n",
            "embedding (Embedding)        (None, 21, 300)           6677700   \n",
            "_________________________________________________________________\n",
            "bidirectional (Bidirectional (None, 64)                85248     \n",
            "_________________________________________________________________\n",
            "dense (Dense)                (None, 32)                2080      \n",
            "_________________________________________________________________\n",
            "dropout (Dropout)            (None, 32)                0         \n",
            "_________________________________________________________________\n",
            "dense_1 (Dense)              (None, 1)                 33        \n",
            "=================================================================\n",
            "Total params: 6,765,061\n",
            "Trainable params: 87,361\n",
            "Non-trainable params: 6,677,700\n",
            "_________________________________________________________________\n"
          ],
          "name": "stdout"
        }
      ]
    },
    {
      "cell_type": "code",
      "metadata": {
        "colab_type": "code",
        "id": "wvC4sIvzoGIn",
        "colab": {}
      },
      "source": [
        "from keras.optimizers import RMSprop\n",
        "from keras.callbacks import ModelCheckpoint\n",
        "from tensorflow.keras.callbacks import EarlyStopping\n",
        "\n",
        "model_glove.compile(loss='binary_crossentropy', optimizer='adam', metrics=['accuracy'])"
      ],
      "execution_count": 45,
      "outputs": []
    },
    {
      "cell_type": "code",
      "metadata": {
        "colab_type": "code",
        "id": "6PUuJIdhoGIq",
        "colab": {
          "base_uri": "https://localhost:8080/",
          "height": 289
        },
        "outputId": "10d0e36e-ce68-4c03-b23c-9c62c99029cd"
      },
      "source": [
        "es_callback = EarlyStopping(monitor='val_loss', patience=3)\n",
        "\n",
        "history_glove = model_glove.fit(word_seq_train, y_train, batch_size=256,\n",
        "          epochs=num_epochs, validation_split=0.3, callbacks=[es_callback], shuffle=False)"
      ],
      "execution_count": 46,
      "outputs": [
        {
          "output_type": "stream",
          "text": [
            "Epoch 1/40\n",
            "17/17 [==============================] - 3s 166ms/step - loss: 0.6428 - accuracy: 0.6617 - val_loss: 0.5791 - val_accuracy: 0.7542\n",
            "Epoch 2/40\n",
            "17/17 [==============================] - 2s 89ms/step - loss: 0.5071 - accuracy: 0.7851 - val_loss: 0.4731 - val_accuracy: 0.7811\n",
            "Epoch 3/40\n",
            "17/17 [==============================] - 2s 90ms/step - loss: 0.4356 - accuracy: 0.8130 - val_loss: 0.4511 - val_accuracy: 0.7991\n",
            "Epoch 4/40\n",
            "17/17 [==============================] - 2s 89ms/step - loss: 0.4029 - accuracy: 0.8360 - val_loss: 0.4488 - val_accuracy: 0.8057\n",
            "Epoch 5/40\n",
            "17/17 [==============================] - 2s 89ms/step - loss: 0.3932 - accuracy: 0.8431 - val_loss: 0.4457 - val_accuracy: 0.8019\n",
            "Epoch 6/40\n",
            "17/17 [==============================] - 2s 89ms/step - loss: 0.3731 - accuracy: 0.8541 - val_loss: 0.4529 - val_accuracy: 0.8024\n",
            "Epoch 7/40\n",
            "17/17 [==============================] - 2s 89ms/step - loss: 0.3607 - accuracy: 0.8578 - val_loss: 0.4578 - val_accuracy: 0.8041\n",
            "Epoch 8/40\n",
            "17/17 [==============================] - 2s 93ms/step - loss: 0.3469 - accuracy: 0.8651 - val_loss: 0.4637 - val_accuracy: 0.8062\n"
          ],
          "name": "stdout"
        }
      ]
    },
    {
      "cell_type": "code",
      "metadata": {
        "colab_type": "code",
        "id": "F03aoUX0oGIu",
        "colab": {
          "base_uri": "https://localhost:8080/",
          "height": 295
        },
        "outputId": "227fe20e-c253-42e7-b49f-c16ac6e5596e"
      },
      "source": [
        "#generate plots\n",
        "plt.figure()\n",
        "plt.plot(history_glove.history['loss'], lw=2.0, color='b', label='train')\n",
        "plt.plot(history_glove.history['val_loss'], lw=2.0, color='r', label='val')\n",
        "plt.title('LSTM sentiment')\n",
        "plt.xlabel('Epochs')\n",
        "plt.ylabel('Cross-Entropy Loss')\n",
        "plt.legend(loc='upper right')\n",
        "plt.show()"
      ],
      "execution_count": 47,
      "outputs": [
        {
          "output_type": "display_data",
          "data": {
            "image/png": "[encoded data removed]",
            "text/plain": [
              "<Figure size 432x288 with 1 Axes>"
            ]
          },
          "metadata": {
            "tags": [],
            "needs_background": "light"
          }
        }
      ]
    },
    {
      "cell_type": "code",
      "metadata": {
        "colab_type": "code",
        "id": "30_SlWHioGIx",
        "colab": {
          "base_uri": "https://localhost:8080/",
          "height": 295
        },
        "outputId": "b4b76924-b2c7-4b5e-db52-b888174fb6db"
      },
      "source": [
        "plt.figure()\n",
        "plt.plot(history_glove.history['accuracy'], lw=2.0, color='b', label='train')\n",
        "plt.plot(history_glove.history['val_accuracy'], lw=2.0, color='r', label='val')\n",
        "plt.title('LSTM sentiment')\n",
        "plt.xlabel('Epochs')\n",
        "plt.ylabel('Accuracy')\n",
        "plt.legend(loc='upper left')\n",
        "plt.show()"
      ],
      "execution_count": 48,
      "outputs": [
        {
          "output_type": "display_data",
          "data": {
            "image/png": "[encoded data removed]",
            "text/plain": [
              "<Figure size 432x288 with 1 Axes>"
            ]
          },
          "metadata": {
            "tags": [],
            "needs_background": "light"
          }
        }
      ]
    },
    {
      "cell_type": "code",
      "metadata": {
        "colab_type": "code",
        "id": "13kGCf-ToGIz",
        "colab": {}
      },
      "source": [
        "predictions = model_glove.predict_classes(word_seq_test)\n",
        "sample=pd.read_csv('test_dat.csv')\n",
        "sample['pred']= (predictions>0.5).astype(int)"
      ],
      "execution_count": 49,
      "outputs": []
    },
    {
      "cell_type": "code",
      "metadata": {
        "colab_type": "code",
        "id": "WTlufsi-oGI2",
        "colab": {
          "base_uri": "https://localhost:8080/",
          "height": 51
        },
        "outputId": "faf8bf36-c135-4704-ffdd-cc37408044ba"
      },
      "source": [
        "import sklearn\n",
        "print(\"Accuracy With GloVe :\")\n",
        "print(sklearn.metrics.accuracy_score(sample.target, sample.pred))"
      ],
      "execution_count": 50,
      "outputs": [
        {
          "output_type": "stream",
          "text": [
            "Accuracy With GloVe :\n",
            "0.8207485226526592\n"
          ],
          "name": "stdout"
        }
      ]
    },
    {
      "cell_type": "code",
      "metadata": {
        "colab_type": "code",
        "id": "45Y2paveoGI4",
        "colab": {}
      },
      "source": [
        "# we don't want the model to overwrite, dont we?\n",
        "keras.backend.clear_session()"
      ],
      "execution_count": 51,
      "outputs": []
    },
    {
      "cell_type": "markdown",
      "metadata": {
        "id": "A5wAv_pWu1bz",
        "colab_type": "text"
      },
      "source": [
        "# **COMPARE WITHOUT WORD EMBEDDING**"
      ]
    },
    {
      "cell_type": "code",
      "metadata": {
        "colab_type": "code",
        "id": "cLYVYomwtfc9",
        "colab": {
          "base_uri": "https://localhost:8080/",
          "height": 323
        },
        "outputId": "ce0b7aff-d6b3-4bb3-e7c7-13b3cd0312c1"
      },
      "source": [
        "from keras.layers import BatchNormalization\n",
        "import tensorflow as tf\n",
        "\n",
        "without_mod = tf.keras.Sequential()\n",
        "\n",
        "without_mod.add(Embedding(nb_words,embed_dim,input_length=max_seq_len,trainable=False))\n",
        "without_mod.add(Bidirectional(LSTM(32)))\n",
        "without_mod.add(Dense(32,activation='relu'))\n",
        "without_mod.add(Dropout(0.4))\n",
        "without_mod.add(Dense(1,activation='sigmoid'))\n",
        "without_mod.summary()"
      ],
      "execution_count": 57,
      "outputs": [
        {
          "output_type": "stream",
          "text": [
            "Model: \"sequential_1\"\n",
            "_________________________________________________________________\n",
            "Layer (type)                 Output Shape              Param #   \n",
            "=================================================================\n",
            "embedding_1 (Embedding)      (None, 21, 300)           6677700   \n",
            "_________________________________________________________________\n",
            "bidirectional_1 (Bidirection (None, 64)                85248     \n",
            "_________________________________________________________________\n",
            "dense_2 (Dense)              (None, 32)                2080      \n",
            "_________________________________________________________________\n",
            "dropout_1 (Dropout)          (None, 32)                0         \n",
            "_________________________________________________________________\n",
            "dense_3 (Dense)              (None, 1)                 33        \n",
            "=================================================================\n",
            "Total params: 6,765,061\n",
            "Trainable params: 87,361\n",
            "Non-trainable params: 6,677,700\n",
            "_________________________________________________________________\n"
          ],
          "name": "stdout"
        }
      ]
    },
    {
      "cell_type": "code",
      "metadata": {
        "colab_type": "code",
        "id": "QkkieOW-tfdB",
        "colab": {}
      },
      "source": [
        "from keras.optimizers import RMSprop\n",
        "from keras.callbacks import ModelCheckpoint\n",
        "from tensorflow.keras.callbacks import EarlyStopping\n",
        "\n",
        "without_mod.compile(loss='binary_crossentropy', optimizer='adam', metrics=['accuracy'])"
      ],
      "execution_count": 58,
      "outputs": []
    },
    {
      "cell_type": "code",
      "metadata": {
        "colab_type": "code",
        "id": "uBms9NKUtfdD",
        "colab": {
          "base_uri": "https://localhost:8080/",
          "height": 527
        },
        "outputId": "f6fd9abc-1639-424b-8ff8-51ba6f758312"
      },
      "source": [
        "es_callback = EarlyStopping(monitor='val_loss', patience=3)\n",
        "\n",
        "history_glove = without_mod.fit(word_seq_train, y_train, batch_size=256,\n",
        "          epochs=num_epochs, validation_split=0.3, callbacks=[es_callback], shuffle=False)"
      ],
      "execution_count": 59,
      "outputs": [
        {
          "output_type": "stream",
          "text": [
            "Epoch 1/40\n",
            "17/17 [==============================] - 2s 131ms/step - loss: 0.6820 - accuracy: 0.5567 - val_loss: 0.6686 - val_accuracy: 0.5545\n",
            "Epoch 2/40\n",
            "17/17 [==============================] - 2s 89ms/step - loss: 0.6619 - accuracy: 0.5855 - val_loss: 0.6483 - val_accuracy: 0.6218\n",
            "Epoch 3/40\n",
            "17/17 [==============================] - 1s 88ms/step - loss: 0.6551 - accuracy: 0.6127 - val_loss: 0.6434 - val_accuracy: 0.6382\n",
            "Epoch 4/40\n",
            "17/17 [==============================] - 2s 88ms/step - loss: 0.6440 - accuracy: 0.6284 - val_loss: 0.6375 - val_accuracy: 0.6360\n",
            "Epoch 5/40\n",
            "17/17 [==============================] - 1s 88ms/step - loss: 0.6415 - accuracy: 0.6434 - val_loss: 0.6377 - val_accuracy: 0.6333\n",
            "Epoch 6/40\n",
            "17/17 [==============================] - 2s 89ms/step - loss: 0.6322 - accuracy: 0.6451 - val_loss: 0.6264 - val_accuracy: 0.6426\n",
            "Epoch 7/40\n",
            "17/17 [==============================] - 2s 89ms/step - loss: 0.6201 - accuracy: 0.6608 - val_loss: 0.6172 - val_accuracy: 0.6552\n",
            "Epoch 8/40\n",
            "17/17 [==============================] - 2s 89ms/step - loss: 0.6065 - accuracy: 0.6810 - val_loss: 0.6160 - val_accuracy: 0.6590\n",
            "Epoch 9/40\n",
            "17/17 [==============================] - 1s 87ms/step - loss: 0.5949 - accuracy: 0.6997 - val_loss: 0.6107 - val_accuracy: 0.6656\n",
            "Epoch 10/40\n",
            "17/17 [==============================] - 2s 90ms/step - loss: 0.5830 - accuracy: 0.7061 - val_loss: 0.6054 - val_accuracy: 0.6601\n",
            "Epoch 11/40\n",
            "17/17 [==============================] - 1s 88ms/step - loss: 0.5723 - accuracy: 0.7204 - val_loss: 0.5976 - val_accuracy: 0.6765\n",
            "Epoch 12/40\n",
            "17/17 [==============================] - 2s 88ms/step - loss: 0.5602 - accuracy: 0.7302 - val_loss: 0.5921 - val_accuracy: 0.6760\n",
            "Epoch 13/40\n",
            "17/17 [==============================] - 2s 89ms/step - loss: 0.5458 - accuracy: 0.7406 - val_loss: 0.5936 - val_accuracy: 0.6831\n",
            "Epoch 14/40\n",
            "17/17 [==============================] - 2s 90ms/step - loss: 0.5377 - accuracy: 0.7469 - val_loss: 0.5944 - val_accuracy: 0.6787\n",
            "Epoch 15/40\n",
            "17/17 [==============================] - 2s 90ms/step - loss: 0.5282 - accuracy: 0.7502 - val_loss: 0.5933 - val_accuracy: 0.6842\n"
          ],
          "name": "stdout"
        }
      ]
    },
    {
      "cell_type": "code",
      "metadata": {
        "colab_type": "code",
        "id": "sSgSA15ktnqr",
        "colab": {}
      },
      "source": [
        "predictions = without_mod.predict_classes(word_seq_test)\n",
        "sample=pd.read_csv('test_dat.csv')\n",
        "sample['pred']= (predictions>0.5).astype(int)"
      ],
      "execution_count": 60,
      "outputs": []
    },
    {
      "cell_type": "code",
      "metadata": {
        "colab_type": "code",
        "id": "lqw4OCOptnqu",
        "colab": {
          "base_uri": "https://localhost:8080/",
          "height": 51
        },
        "outputId": "ba959ec9-b1bb-4a88-adc2-a4357427d638"
      },
      "source": [
        "import sklearn\n",
        "print(\"Accuracy With GloVe :\")\n",
        "print(sklearn.metrics.accuracy_score(sample.target, sample.pred))"
      ],
      "execution_count": 61,
      "outputs": [
        {
          "output_type": "stream",
          "text": [
            "Accuracy With GloVe :\n",
            "0.6966513460275772\n"
          ],
          "name": "stdout"
        }
      ]
    }
  ]
}